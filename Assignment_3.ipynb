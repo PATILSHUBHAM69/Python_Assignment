{
  "nbformat": 4,
  "nbformat_minor": 0,
  "metadata": {
    "colab": {
      "provenance": []
    },
    "kernelspec": {
      "name": "python3",
      "display_name": "Python 3"
    },
    "language_info": {
      "name": "python"
    }
  },
  "cells": [
    {
      "cell_type": "markdown",
      "source": [
        "1.\tWrite a program to accept any input from end user and print it."
      ],
      "metadata": {
        "id": "RCG8W8y9Lkxq"
      }
    },
    {
      "cell_type": "code",
      "source": [
        "user_input = input(\" Enter any input : \")\n",
        "print(user_input)"
      ],
      "metadata": {
        "colab": {
          "base_uri": "https://localhost:8080/"
        },
        "id": "c5PVOr7XLlvU",
        "outputId": "3a203d33-c690-4b80-8fa8-3dc251f291de"
      },
      "execution_count": null,
      "outputs": [
        {
          "output_type": "stream",
          "name": "stdout",
          "text": [
            " Enter any input : shubham69\n",
            "shubham69\n"
          ]
        }
      ]
    },
    {
      "cell_type": "markdown",
      "source": [
        "2.\tWrite a program to accept 10 different strings and convert it into list and print it."
      ],
      "metadata": {
        "id": "cFtmEwwJMfjk"
      }
    },
    {
      "cell_type": "code",
      "source": [
        "lst1=[]\n",
        "for i in range(1,11):\n",
        "  print(\" Enter the input string \",i,\" : \")\n",
        "  user_input1= input()\n",
        "  lst1.append(user_input1)\n",
        "print('')\n",
        "print(lst1)"
      ],
      "metadata": {
        "colab": {
          "base_uri": "https://localhost:8080/"
        },
        "id": "n3EKha7EMP7Z",
        "outputId": "9596b176-8130-40e6-8e8d-7d6442a56704"
      },
      "execution_count": null,
      "outputs": [
        {
          "output_type": "stream",
          "name": "stdout",
          "text": [
            " Enter the input  1  : \n",
            "xd\n",
            " Enter the input  2  : \n",
            "fcvf\n",
            " Enter the input  3  : \n",
            "re\n",
            " Enter the input  4  : \n",
            "\n",
            " Enter the input  5  : \n",
            "fvd\n",
            " Enter the input  6  : \n",
            "sd\n",
            " Enter the input  7  : \n",
            "\n",
            " Enter the input  8  : \n",
            "dsfs\n",
            " Enter the input  9  : \n",
            "df\n",
            " Enter the input  10  : \n",
            "y\n",
            "\n",
            "['xd', 'fcvf', 're', '', 'fvd', 'sd', '', 'dsfs', 'df', 'y']\n"
          ]
        }
      ]
    },
    {
      "cell_type": "markdown",
      "source": [
        "3.\tWrite a program to accept 10 different strings and convert it into dictionary and print it."
      ],
      "metadata": {
        "id": "zmsgDowaObrR"
      }
    },
    {
      "cell_type": "code",
      "source": [
        "dict1={}\n",
        "i=1\n",
        "while i < 11:\n",
        "  print(\" Enter the input string \",i,\" : \",end=' ')\n",
        "  user_input=input()\n",
        "  dict1[i]= user_input\n",
        "  i+=1\n",
        "\n",
        "print(dict1,end='')"
      ],
      "metadata": {
        "colab": {
          "base_uri": "https://localhost:8080/"
        },
        "id": "CK4TD7PEOceF",
        "outputId": "4e83f4c2-0da6-4a56-c87b-4ff82aa449a2"
      },
      "execution_count": null,
      "outputs": [
        {
          "output_type": "stream",
          "name": "stdout",
          "text": [
            " Enter the input string  1  :  shubham\n",
            " Enter the input string  2  :  patil\n",
            " Enter the input string  3  :  kolhapur\n",
            "{1: 'shubham', 2: 'patil', 3: 'kolhapur'}"
          ]
        }
      ]
    },
    {
      "cell_type": "markdown",
      "source": [
        "4.\tWrite a program to accept 10 different strings and convert it into tuple and print it."
      ],
      "metadata": {
        "id": "gkzxchOaQ5Lq"
      }
    },
    {
      "cell_type": "code",
      "source": [
        "my_tuple=()\n",
        "i=1\n",
        "while i < 11:\n",
        "  print(\" Enter the input string \",i,\" : \",end=' ')\n",
        "  user_input2=input()\n",
        "  y=list(my_tuple)\n",
        "  y.append(user_input2)\n",
        "  my_tuple=tuple(y)\n",
        "  i+=1\n",
        "print(my_tuple)\n"
      ],
      "metadata": {
        "colab": {
          "base_uri": "https://localhost:8080/"
        },
        "id": "GNVzipGSQdDT",
        "outputId": "979b3ee4-835c-4942-a3bd-3dfed9fedee4"
      },
      "execution_count": null,
      "outputs": [
        {
          "output_type": "stream",
          "name": "stdout",
          "text": [
            " Enter the input string  1  :  df\n",
            " Enter the input string  2  :  re\n",
            " Enter the input string  3  :  ty\n",
            " Enter the input string  4  :  e\n",
            " Enter the input string  5  :  54\n",
            " Enter the input string  6  :  34\n",
            " Enter the input string  7  :  f4\n",
            " Enter the input string  8  :  tr4\n",
            " Enter the input string  9  :  bg5\n",
            " Enter the input string  10  :  t5y\n",
            "('df', 're', 'ty', 'e', '54', '34', 'f4', 'tr4', 'bg5', 't5y')\n"
          ]
        }
      ]
    },
    {
      "cell_type": "markdown",
      "source": [
        "5.\tWrite a Python program to calculate the length of a string."
      ],
      "metadata": {
        "id": "u7JOkzmwUcXB"
      }
    },
    {
      "cell_type": "code",
      "source": [
        "user_input3 = input(\" Enter the the string : \")\n",
        "print(\" Length of input stirng is : \", len(user_input3))"
      ],
      "metadata": {
        "id": "OJxNp6iBRsZt",
        "colab": {
          "base_uri": "https://localhost:8080/"
        },
        "outputId": "b7f383a4-1839-4b45-b49d-759c70762c5e"
      },
      "execution_count": null,
      "outputs": [
        {
          "output_type": "stream",
          "name": "stdout",
          "text": [
            " Enter the the string : 1237u\n",
            " Length of input stirng is :  5\n"
          ]
        }
      ]
    },
    {
      "cell_type": "markdown",
      "source": [
        "6.\tWrite a Python program to count the number of characters (character frequency) in a string\n",
        "Sample String : google.com'\n"
      ],
      "metadata": {
        "id": "ZCovmoEdVBxa"
      }
    },
    {
      "cell_type": "code",
      "source": [
        "user_input4 = input(\" Enter the the string : \")\n",
        "x=user_input4.replace(\" \",\"\")\n",
        "my_dic={}\n",
        "lst2=[]\n",
        "for i in x:\n",
        "  lst2.append(i)\n",
        "n=1\n",
        "z=0\n",
        "y=set(lst2)\n",
        "for i in y:\n",
        "  n=z\n",
        "  for j in x:\n",
        "    if i == j:\n",
        "      n=n+1\n",
        "      my_dic[i]= n\n",
        "      \n",
        "print(my_dic)\n"
      ],
      "metadata": {
        "colab": {
          "base_uri": "https://localhost:8080/"
        },
        "id": "0JJcIDPuU6ea",
        "outputId": "4454387c-00cd-48f6-cb9c-eb78ddb46c54"
      },
      "execution_count": null,
      "outputs": [
        {
          "output_type": "stream",
          "name": "stdout",
          "text": [
            " Enter the the string : abc abc abc xyz\n",
            "{'b': 3, 'x': 1, 'y': 1, 'c': 3, 'z': 1, 'a': 3}\n"
          ]
        }
      ]
    },
    {
      "cell_type": "markdown",
      "source": [
        "7.\tWrite a Python program to get a string made of the first 2 and last 2 characters of a given string. If the string length is less than 2, return the empty string instead.\n",
        "Sample String : 'w3resource'\n",
        "Expected Result : 'w3ce'\n",
        "Sample String : 'w3'\n",
        "Expected Result : 'w3w3'\n",
        "Sample String : ' w'\n",
        "Expected Result : Empty String\n"
      ],
      "metadata": {
        "id": "p3ibN3m0kEMZ"
      }
    },
    {
      "cell_type": "code",
      "source": [
        "user_input5=input(\" Enter the string without space : \")\n",
        "if len(user_input5) == 1 or len(user_input5) == 0 :\n",
        "  print('Empty String')\n",
        "elif len(user_input5) == 2:\n",
        "  print(user_input5 * 2)\n",
        "else:\n",
        "  print(user_input5[0:2] + user_input5[-2:])"
      ],
      "metadata": {
        "colab": {
          "base_uri": "https://localhost:8080/"
        },
        "id": "j7ftlwlMkI41",
        "outputId": "b6da9082-0009-40fc-968e-f2873a6650de"
      },
      "execution_count": null,
      "outputs": [
        {
          "output_type": "stream",
          "name": "stdout",
          "text": [
            " Enter the string without space : w3resource\n",
            "w3ce\n"
          ]
        }
      ]
    },
    {
      "cell_type": "markdown",
      "source": [
        "8.\tWrite a Python program to get a string from a given string where all occurrences of its first char have been changed to '$', except the first char itself.\n",
        "Sample String : 'restart'\n",
        "Expected Result : 'resta$t'\n"
      ],
      "metadata": {
        "id": "cKRkvGQWnv9S"
      }
    },
    {
      "cell_type": "code",
      "source": [
        "user_input6=input(\" Enter the string without space : \")\n",
        "x=user_input6[0]\n",
        "result=user_input6.replace(x,\"$\")\n",
        "final=result.replace(\"$\",x,1)\n",
        "print(final)"
      ],
      "metadata": {
        "colab": {
          "base_uri": "https://localhost:8080/"
        },
        "id": "iiYE9jDjlhpa",
        "outputId": "974f9b71-ce90-4d11-af09-7aa7825a46b7"
      },
      "execution_count": null,
      "outputs": [
        {
          "output_type": "stream",
          "name": "stdout",
          "text": [
            " Enter the string without space : restart remover\n",
            "resta$t $emove$\n"
          ]
        }
      ]
    },
    {
      "cell_type": "markdown",
      "source": [
        "9.\tWrite a Python program to get a single string from two given strings, separated by a space and swap the first two characters of each string.\n",
        "Sample String : 'abc', 'xyz'\n",
        "Expected Result : 'xyc abz'\n"
      ],
      "metadata": {
        "id": "MDnn677fqWOD"
      }
    },
    {
      "cell_type": "code",
      "source": [
        "print(\" Enter the two stirng seperated by space :\")\n",
        "user_input7 = list(input().split())\n",
        "a=user_input7[0]\n",
        "b=user_input7[1]\n",
        "c=b[0:2]+a[2:]\n",
        "d=a[0:2]+b[2:]\n",
        "print(\"Output :\",c,d)"
      ],
      "metadata": {
        "colab": {
          "base_uri": "https://localhost:8080/"
        },
        "id": "TC3IxiBXmIyw",
        "outputId": "8ebca6e4-ae34-4e3e-e761-c9243bfbe111"
      },
      "execution_count": null,
      "outputs": [
        {
          "output_type": "stream",
          "name": "stdout",
          "text": [
            " Enter the two stirng seperated by space :\n",
            "abc xyz\n",
            "Output : xyc abz\n"
          ]
        }
      ]
    },
    {
      "cell_type": "markdown",
      "source": [
        "10.\tWrite a Python program to add 'ing' at the end of a given string (length should be at least 3). If the given string already ends with 'ing', add 'ly' instead. If the string length of the given string is less than 3, leave it unchanged.\n",
        "Sample String : 'abc'\n",
        "Expected Result : 'abcing'\n",
        "Sample String : 'string'\n",
        "Expected Result : 'stringly'\n"
      ],
      "metadata": {
        "id": "EhFPZ7rOwIoa"
      }
    },
    {
      "cell_type": "code",
      "source": [
        "input1=input(\" Enter the string : \")\n",
        "if len(input1) < 3 :\n",
        "  print(input1)\n",
        "else:\n",
        "  if input1[-3:]== 'ing':\n",
        "    print(input1+'ly')\n",
        "  else:\n",
        "    print(input1+'ing')"
      ],
      "metadata": {
        "colab": {
          "base_uri": "https://localhost:8080/"
        },
        "id": "ypTMGoE9o8_x",
        "outputId": "060cd3cf-c069-4a0f-d04c-e58031942c48"
      },
      "execution_count": null,
      "outputs": [
        {
          "output_type": "stream",
          "name": "stdout",
          "text": [
            " Enter the string : ab\n",
            "ab\n"
          ]
        }
      ]
    },
    {
      "cell_type": "markdown",
      "source": [
        "11.\tWrite a Python program to find the first appearance of the substrings 'not' and 'poor' in a given string. If 'not' follows 'poor', replace the whole 'not'...'poor' substring with 'good'. Return the resulting string. \n",
        "Sample String : 'The lyrics is not that poor!'\n",
        "'The lyrics is poor!'\n",
        "Expected Result : 'The lyrics is good!'\n",
        "'The lyrics is poor!'\n"
      ],
      "metadata": {
        "id": "Deir2VfdxWrz"
      }
    },
    {
      "cell_type": "code",
      "source": [
        "input2= 'The lyrics is not poor not poor'\n",
        "lst=input2.split()\n",
        "sam=input2.split()\n",
        "lst2=[]\n",
        "for i in lst:\n",
        "  if i == 'not':\n",
        "    id=lst.index(i)\n",
        "    lst2.append(id)\n",
        "    del lst[0:id+1]\n",
        "    if 'poor' in lst:\n",
        "      \n",
        "      id2=sam.index('poor')+1\n",
        "      lst2.append(id2)\n",
        "      del sam[lst2[0]:lst2[1]]\n",
        "      sam.insert(lst2[0],'good')\n",
        "      for i in sam:\n",
        "        print(i,end=' ')\n",
        "  else:\n",
        "    print('',end='')\n",
        "    "
      ],
      "metadata": {
        "colab": {
          "base_uri": "https://localhost:8080/"
        },
        "id": "hhk9bOwijdSq",
        "outputId": "d789125d-2b38-4550-95e6-34c2be15219c"
      },
      "execution_count": null,
      "outputs": [
        {
          "output_type": "stream",
          "name": "stdout",
          "text": [
            "The lyrics is good not poor "
          ]
        }
      ]
    },
    {
      "cell_type": "markdown",
      "source": [
        "12.\tWrite a Python function that takes a list of words and return the longest word and the length of the longest one. \n",
        "Sample Output:\n",
        "Longest word: Exercises\n",
        "Length of the longest word: 9\n"
      ],
      "metadata": {
        "id": "X5BCUn7JpOlY"
      }
    },
    {
      "cell_type": "code",
      "source": [
        "while True:\n",
        "  try:\n",
        "    print(\"Enter the element of list separeted by space : \")\n",
        "    x= list(input().split())\n",
        "    listq=[]\n",
        "    for i in x:\n",
        "      len_ele=len(i)\n",
        "      listq.append(len_ele)\n",
        "    max_ele=max(listq)\n",
        "    final_list=[]\n",
        "    for j in x:\n",
        "      if len(j) == max_ele:\n",
        "        final_list.append(j)\n",
        "\n",
        "    print(\"Longest Word in the List is : \")\n",
        "    for k in set(final_list):\n",
        "      print(k,\", \", end=' ')\n",
        "    print('')\n",
        "    print(\"Length of Longest Word is : \", max_ele)\n",
        "    break\n",
        "  except:\n",
        "    print(\"\\nThis is Wrong Input....! Try Again\")\n",
        "\n"
      ],
      "metadata": {
        "colab": {
          "base_uri": "https://localhost:8080/"
        },
        "id": "gNEPwNR419UY",
        "outputId": "5446475c-b0f0-474f-a0d0-5ac6e11ec8d9"
      },
      "execution_count": null,
      "outputs": [
        {
          "output_type": "stream",
          "name": "stdout",
          "text": [
            "Enter the element of list separeted by space : \n",
            "shubham yashwant patil\n",
            "Longest Word in the List is : \n",
            "yashwant ,  \n",
            "Length of Longest Word is :  8\n"
          ]
        }
      ]
    },
    {
      "cell_type": "markdown",
      "source": [
        "13.\tWrite a Python program to remove the nth index character from a nonempty string."
      ],
      "metadata": {
        "id": "VtO4QMF1wyIk"
      }
    },
    {
      "cell_type": "code",
      "source": [
        "while True:\n",
        "  try:\n",
        "    st = input(\" Enter the Nonempty Stirng : \")\n",
        "    x= int(input(\" Enter the index number to remove character : \"))\n",
        "    if len(st)>0:\n",
        "      x=x-1\n",
        "      output= st[0:x]+st[x+1:]\n",
        "      print(\"Expected Output : \", output)\n",
        "      break    \n",
        "    else:\n",
        "      print(\" You Enter Empty String\")\n",
        "    \n",
        "  \n",
        "  except:\n",
        "    print(\"\\nWrong Input...! Try Again\")"
      ],
      "metadata": {
        "colab": {
          "base_uri": "https://localhost:8080/"
        },
        "id": "8IjZRR9dwy8s",
        "outputId": "32c58c2a-7e90-4d8d-b376-a3e05b7f30bc"
      },
      "execution_count": null,
      "outputs": [
        {
          "output_type": "stream",
          "name": "stdout",
          "text": [
            " Enter the Nonempty Stirng : \n",
            " Enter the index number to remove character : 2\n",
            " You Enter Empty String\n",
            " Enter the Nonempty Stirng : shuan\n",
            " Enter the index number to remove character : sd\n",
            "\n",
            "Wrong Input...! Try Again\n",
            " Enter the Nonempty Stirng : shubham\n",
            " Enter the index number to remove character : 1\n",
            "Expected Output :  hubham\n"
          ]
        }
      ]
    },
    {
      "cell_type": "markdown",
      "source": [
        "14.\tWrite a Python program to change a given string to a newly string where the first and last chars have been exchanged."
      ],
      "metadata": {
        "id": "adwayv6x09C3"
      }
    },
    {
      "cell_type": "code",
      "source": [
        "while True:\n",
        "  try:\n",
        "    x= input(\" Enter the String : \")\n",
        "    newstring= x[-1]+x[1:-1]+x[0]\n",
        "    print(\" Output : \",newstring)\n",
        "    break\n",
        "  except:\n",
        "    print(\"\\nWrong Input...! Try Again\")"
      ],
      "metadata": {
        "id": "esgAkAiI0992",
        "colab": {
          "base_uri": "https://localhost:8080/"
        },
        "outputId": "992a4e1a-d015-4af4-ee4a-d23c9f9adf31"
      },
      "execution_count": null,
      "outputs": [
        {
          "output_type": "stream",
          "name": "stdout",
          "text": [
            " Enter the String : shubham\n",
            " Output :  mhubhas\n"
          ]
        }
      ]
    },
    {
      "cell_type": "markdown",
      "source": [
        "15.\tWrite a Python program to remove characters that have odd index values in a given string."
      ],
      "metadata": {
        "id": "zZ5pPhOY574h"
      }
    },
    {
      "cell_type": "code",
      "source": [
        "while True:\n",
        "  try:\n",
        "    x= input(\" Enter the String : \")\n",
        "    for i in range(len(x)):\n",
        "      if i%2==0:\n",
        "        print(x[i],end='')\n",
        "    break\n",
        "  except:\n",
        "     print(\"\\nWrong Input...! Try Again\")"
      ],
      "metadata": {
        "colab": {
          "base_uri": "https://localhost:8080/"
        },
        "id": "jXn4ptzF6D8Y",
        "outputId": "c1e1e484-98d5-4378-aaf3-958ee88a46a9"
      },
      "execution_count": null,
      "outputs": [
        {
          "output_type": "stream",
          "name": "stdout",
          "text": [
            " Enter the String : shubha mpw\n",
            "suh p"
          ]
        }
      ]
    },
    {
      "cell_type": "markdown",
      "source": [
        "16.\tWrite a Python program to count the occurrences of each word in a given sentence."
      ],
      "metadata": {
        "id": "IBFMVoDZ8Nsw"
      }
    },
    {
      "cell_type": "code",
      "source": [
        "print(\" Enter the the Sentenance : \")\n",
        "x= list(input().split())\n",
        "\n",
        "my_dic={}\n",
        "lst2=set(x)\n",
        "n=1\n",
        "z=0\n",
        "for i in lst2:\n",
        "  n=z\n",
        "  for j in x:\n",
        "    if i == j:\n",
        "      n=n+1\n",
        "      my_dic[i]= n\n",
        "print(\" Count of each word in sentenance :\")      \n",
        "print(my_dic)"
      ],
      "metadata": {
        "colab": {
          "base_uri": "https://localhost:8080/"
        },
        "id": "1s4GEGki8RDa",
        "outputId": "bad0ce78-251d-4690-dce2-285448ed33d0"
      },
      "execution_count": null,
      "outputs": [
        {
          "output_type": "stream",
          "name": "stdout",
          "text": [
            " Enter the the Sentenance : \n",
            "my name is shubham patil also my name crickrt patil\n",
            "{'is': 1, 'shubham': 1, 'patil': 2, 'my': 2, 'name': 2, 'also': 1, 'crickrt': 1}\n"
          ]
        }
      ]
    },
    {
      "cell_type": "markdown",
      "source": [
        "17.\tWrite a Python script that takes input from the user and displays that input back in upper and lower cases"
      ],
      "metadata": {
        "id": "dTPD7OEh-UML"
      }
    },
    {
      "cell_type": "code",
      "source": [
        "x = input(\" Enter the input :\")\n",
        "print(\" Output in Uppercase :\",x.upper())\n",
        "print(\" Output in Lowercase :\",x.lower())"
      ],
      "metadata": {
        "colab": {
          "base_uri": "https://localhost:8080/"
        },
        "id": "H9VyV-Wg9xRO",
        "outputId": "9c5df5fe-5ae1-4df9-a5a0-e09e00ced1a0"
      },
      "execution_count": null,
      "outputs": [
        {
          "output_type": "stream",
          "name": "stdout",
          "text": [
            " Enter the input :shuBHam PatkIl\n",
            " Output in Uppercase : SHUBHAM PATKIL\n",
            " Output in Lowercase : shubham patkil\n"
          ]
        }
      ]
    },
    {
      "cell_type": "markdown",
      "source": [
        "18.\tWrite a Python program that accepts a comma-separated sequence of words as input and prints the distinct words in sorted form (alphanumerically). \n",
        "Sample Words : red, white, black, red, green, black\n",
        "Expected Result : black, green, red, white,red\n"
      ],
      "metadata": {
        "id": "Lhrl8s-K_JU7"
      }
    },
    {
      "cell_type": "code",
      "source": [
        "x= (input(\"Enter the comma-separated sequence of words :\"))\n",
        "col_list=x.split(',')\n",
        "sorted_list=sorted(col_list)\n",
        "print(\"Expected output is :\",sorted_list)"
      ],
      "metadata": {
        "colab": {
          "base_uri": "https://localhost:8080/"
        },
        "id": "fxz8nevf_KJa",
        "outputId": "29fadcb6-8d06-4ccc-801b-106d8c2ef441"
      },
      "execution_count": null,
      "outputs": [
        {
          "output_type": "stream",
          "name": "stdout",
          "text": [
            "Enter the comma-separated sequence of words :red,black,white,green,black\n",
            "Expected output is : ['black', 'black', 'green', 'red', 'white']\n"
          ]
        }
      ]
    },
    {
      "cell_type": "markdown",
      "source": [
        "19.\tWrite a Python function to create an HTML string with tags around the word(s).  \n",
        "Sample function and result :\n",
        "add_tags('i', 'Python') -> '<i>Python</i>'\n",
        "add_tags('b', 'Python Tutorial') -> '<b>Python Tutorial </b>'\n"
      ],
      "metadata": {
        "id": "CN1wty9AOByP"
      }
    },
    {
      "cell_type": "code",
      "source": [
        "a=input(\"Enter the string : \")\n",
        "b=input(\"Enter the tag : \")\n",
        "def add_tags(string, tag):\n",
        "    return f'<{tag}>{string}</{tag}>'\n",
        "\n",
        "add_tags(a,b)\n"
      ],
      "metadata": {
        "colab": {
          "base_uri": "https://localhost:8080/",
          "height": 70
        },
        "id": "WzEBwhvTOCom",
        "outputId": "5bb7474c-ef27-4954-9c15-4cf2f74bec39"
      },
      "execution_count": null,
      "outputs": [
        {
          "name": "stdout",
          "output_type": "stream",
          "text": [
            "Enter the string : Python String\n",
            "Enter the tag : i\n"
          ]
        },
        {
          "output_type": "execute_result",
          "data": {
            "text/plain": [
              "'<i>Python String</i>'"
            ],
            "application/vnd.google.colaboratory.intrinsic+json": {
              "type": "string"
            }
          },
          "metadata": {},
          "execution_count": 1
        }
      ]
    },
    {
      "cell_type": "markdown",
      "source": [
        "20.\tWrite a Python function to insert a string in the middle of a string.  \n",
        "Sample function and result :\n",
        "insert_sting_middle('[[]]<<>>', 'Python') -> [[Python]]\n",
        "insert_sting_middle('{{}}', 'PHP') -> {{PHP}}\n"
      ],
      "metadata": {
        "id": "3XPEMhRC4QYX"
      }
    },
    {
      "cell_type": "code",
      "source": [
        "a= input(\" Enter the character : \")\n",
        "b= input(\" Enter the string : \")\n",
        "\n",
        "def insert_string_middle(char, string):\n",
        "    middle = len(char) // 2\n",
        "    return char[:middle] + string + char[middle:]\n",
        "\n",
        "insert_string_middle(a,b)"
      ],
      "metadata": {
        "colab": {
          "base_uri": "https://localhost:8080/",
          "height": 70
        },
        "id": "dm3Le8rfO88c",
        "outputId": "77701110-1c91-4b61-bf8e-ee4639adb24b"
      },
      "execution_count": null,
      "outputs": [
        {
          "name": "stdout",
          "output_type": "stream",
          "text": [
            " Enter the character : [[]]\n",
            " Enter the string : python\n"
          ]
        },
        {
          "output_type": "execute_result",
          "data": {
            "text/plain": [
              "'[[python]]'"
            ],
            "application/vnd.google.colaboratory.intrinsic+json": {
              "type": "string"
            }
          },
          "metadata": {},
          "execution_count": 21
        }
      ]
    },
    {
      "cell_type": "markdown",
      "source": [
        "21.\tWrite a Python function to get a string made of 4 copies of the last two characters of a specified string (length must be at least 2).  \n",
        "Sample function and result :\n",
        "insert_end('Python') -> onononon\n",
        "insert_end('Exercises') -> eseseses\n"
      ],
      "metadata": {
        "id": "05StbPMBxe8h"
      }
    },
    {
      "cell_type": "code",
      "source": [
        "x= input(\"Enter the string :\")\n",
        "\n",
        "def insert_end(x):\n",
        "  if len(x)>2:\n",
        "    print(\" Expecte Output :\")\n",
        "    print((x[-2:])*4)\n",
        "  else:\n",
        "    print(\" Length of string is less than 2 \")\n",
        "\n",
        "insert_end(x)"
      ],
      "metadata": {
        "colab": {
          "base_uri": "https://localhost:8080/"
        },
        "id": "som39z9VxhOY",
        "outputId": "42cb0eef-dce8-402a-e3d2-8810adcc594f"
      },
      "execution_count": null,
      "outputs": [
        {
          "output_type": "stream",
          "name": "stdout",
          "text": [
            "Enter the string :cat\n",
            " Expecte Output :\n",
            "atatatat\n"
          ]
        }
      ]
    },
    {
      "cell_type": "markdown",
      "source": [
        "22.\tWrite a Python function to get a string made of the first three characters of a specified string. If the length of the string is less than 3, return the original string.  \n",
        "Sample function and result :\n",
        "first_three('ipy') -> ipy\n",
        "first_three('python') -> pyt\n"
      ],
      "metadata": {
        "id": "EyN_f9BGzP11"
      }
    },
    {
      "cell_type": "code",
      "source": [
        "x = input(\" Enter the string\")\n",
        "\n",
        "def first_3(x):\n",
        "  if len(x)>3:\n",
        "    print(x[:3])\n",
        "  else:\n",
        "    print(x)\n",
        "first_3(x)\n"
      ],
      "metadata": {
        "colab": {
          "base_uri": "https://localhost:8080/"
        },
        "id": "Zq-_WU57y4qt",
        "outputId": "dbe7f5de-0975-47b9-a210-938ee2a06bc7"
      },
      "execution_count": null,
      "outputs": [
        {
          "output_type": "stream",
          "name": "stdout",
          "text": [
            " Enter the stringipy\n",
            "ipy\n"
          ]
        }
      ]
    },
    {
      "cell_type": "markdown",
      "source": [
        "23.\tWrite a Python program to get the last part of a string before a specified character "
      ],
      "metadata": {
        "id": "RSdlmy6z0sXF"
      }
    },
    {
      "cell_type": "code",
      "source": [
        "def get_last_part(string, char):\n",
        "    parts = string.split(char)\n",
        "    if len(parts)>1:\n",
        "      print(parts[-2])\n",
        "    else:\n",
        "      print(string)\n",
        "\n",
        "x= input(\" enter the string :\")\n",
        "y= input(\"enter the character : \")\n",
        "get_last_part(x,y)"
      ],
      "metadata": {
        "colab": {
          "base_uri": "https://localhost:8080/"
        },
        "id": "oS_S1qlQ0sy_",
        "outputId": "c9c6578a-8af9-489c-b265-c3591ce00e85"
      },
      "execution_count": null,
      "outputs": [
        {
          "output_type": "stream",
          "name": "stdout",
          "text": [
            " enter the string :www.google.com\n",
            "enter the character : .\n",
            "google\n"
          ]
        }
      ]
    },
    {
      "cell_type": "markdown",
      "source": [
        "24.\tWrite a Python function to reverse a string if its length is a multiple of 4.  "
      ],
      "metadata": {
        "id": "2Sq7CUvUVxQ4"
      }
    },
    {
      "cell_type": "code",
      "source": [
        "x= input(\" Enter the string : \")\n",
        " \n",
        "def reverse(x):\n",
        "  if len(x)%4==0:\n",
        "    print(x[::-1])\n",
        "  else:\n",
        "    print(\" Input string length is not in multiple of 4 \")\n",
        "\n",
        "reverse(x)\n",
        "          "
      ],
      "metadata": {
        "colab": {
          "base_uri": "https://localhost:8080/"
        },
        "id": "BTLE1S0EVx8u",
        "outputId": "15267525-6b1d-42b6-e95c-1a564f10af4d"
      },
      "execution_count": null,
      "outputs": [
        {
          "output_type": "stream",
          "name": "stdout",
          "text": [
            " Enter the string : asdf asw\n",
            "wsa fdsa\n"
          ]
        }
      ]
    },
    {
      "cell_type": "markdown",
      "source": [
        "25.\tWrite a Python function to convert a given string to all uppercase if it contains at least 2 uppercase characters in the first 4 characters "
      ],
      "metadata": {
        "id": "iAHYGoanXMfg"
      }
    },
    {
      "cell_type": "code",
      "source": [
        "x= input(\" Enter the string : \")\n",
        "\n",
        "def check_upper(x):\n",
        "  y=x[:4].upper()\n",
        "  count=0\n",
        "  for i in (y.split()):\n",
        "    if i in y:\n",
        "      count+=1\n",
        "\n",
        "  if count >= 2:\n",
        "    print(\"Output\",x.upper()) \n",
        "  else:\n",
        "    print(\"Stirng is as it is : \",x)\n",
        "check_upper(x)\n"
      ],
      "metadata": {
        "colab": {
          "base_uri": "https://localhost:8080/"
        },
        "id": "-haDQwMdXNNC",
        "outputId": "6e8b7642-8d96-44e5-c3ea-6f47b15291b1"
      },
      "execution_count": null,
      "outputs": [
        {
          "output_type": "stream",
          "name": "stdout",
          "text": [
            " Enter the string : ShubHam\n",
            "Stirng is as it is :  ShubHam\n"
          ]
        }
      ]
    },
    {
      "cell_type": "markdown",
      "source": [
        "26.\tWrite a Python program to sort a string lexicographically."
      ],
      "metadata": {
        "id": "zGm2dN8EaLm2"
      }
    },
    {
      "cell_type": "code",
      "source": [
        "x= input(\" Enter the string : \")\n",
        "\n",
        "def lexi(x):\n",
        "  y=sorted(x)\n",
        "  print(y)\n",
        "\n",
        "lexi(x)\n"
      ],
      "metadata": {
        "colab": {
          "base_uri": "https://localhost:8080/"
        },
        "id": "IQn0ztbYYFgc",
        "outputId": "85eec526-88b8-4c2c-ee9d-b1d75e32f4ed"
      },
      "execution_count": null,
      "outputs": [
        {
          "output_type": "stream",
          "name": "stdout",
          "text": [
            " Enter the string : w3SchoolZ\n",
            "['3', 'S', 'Z', 'c', 'h', 'l', 'o', 'o', 'w']\n"
          ]
        }
      ]
    },
    {
      "cell_type": "markdown",
      "source": [
        "27.\tWrite a Python program to remove a newline in Python"
      ],
      "metadata": {
        "id": "MVS9I8jedOOZ"
      }
    },
    {
      "cell_type": "code",
      "source": [
        "x=\"my name is shubham\\nand i work in ics\\nas asd in bangalore\"\n",
        "print(x)\n",
        "\n",
        "#x= input(\"Enter the string with newline character : \")\n",
        "new= x.replace('\\n',' ')\n",
        "print(\"output :\")\n",
        "print(new)"
      ],
      "metadata": {
        "colab": {
          "base_uri": "https://localhost:8080/"
        },
        "id": "FZQzYU4_dO3_",
        "outputId": "9abc1b7d-89c6-4a56-ac4b-dfc880bb4021"
      },
      "execution_count": null,
      "outputs": [
        {
          "output_type": "stream",
          "name": "stdout",
          "text": [
            "my name is shubham\n",
            "and i work in ics\n",
            "as asd in bangalore\n",
            "my name is shubham and i work in ics as asd in bangalore\n"
          ]
        }
      ]
    },
    {
      "cell_type": "markdown",
      "source": [
        "28.\tWrite a Python program to check whether a string starts with specified characters"
      ],
      "metadata": {
        "id": "pAwjjUygssfJ"
      }
    },
    {
      "cell_type": "code",
      "source": [
        "x = input(\"Enter the string : \")\n",
        "y= input(\"Enter the Character : \")\n",
        "def check(x,y):\n",
        "  if x[0]==y:\n",
        "    print(\" String start with specified character '\",y,\"'\")\n",
        "  else:\n",
        "    print(\" String not start with specified character '\",y,\"'\")\n",
        "\n",
        "check(x,y)\n"
      ],
      "metadata": {
        "colab": {
          "base_uri": "https://localhost:8080/"
        },
        "id": "hworCYftos95",
        "outputId": "ccda8a21-6207-428b-f372-bfa8d49e38a3"
      },
      "execution_count": null,
      "outputs": [
        {
          "output_type": "stream",
          "name": "stdout",
          "text": [
            "Enter the string : my name is\n",
            "Enter the Character : m\n",
            " String start with specified character ' m '\n"
          ]
        }
      ]
    },
    {
      "cell_type": "markdown",
      "source": [
        "29.\t Write a Python program to create a Caesar encryption \n",
        "Note : In cryptography, a Caesar cipher, also known as Caesar's cipher, the shift cipher, Caesar's code or Caesar shift, is one of the simplest and most widely known encryption techniques. It is a type of substitution cipher in which each letter in the plaintext is replaced by a letter some fixed number of positions down the alphabet. For example, with a left shift of 3, D would be replaced by A, E would become B, and so on. The method is named after Julius Caesar, who used it in his private correspondence.\n"
      ],
      "metadata": {
        "id": "wUCRGz8ther9"
      }
    },
    {
      "cell_type": "code",
      "source": [
        "import string\n",
        "\n",
        "lower_alph = []\n",
        "for i in string.ascii_lowercase:\n",
        "  lower_alph.append(i)\n",
        "  \n",
        "upper_alph = []\n",
        "for i in string.ascii_uppercase:\n",
        "  upper_alph.append(i)\n",
        "\n",
        "while True:\n",
        "  x= input(\"Enter the stirng contain a-zA-Z : \")\n",
        "  key= int(input(\"Enter the number to left shift : \"))\n",
        "  try:\n",
        "    for i in x:\n",
        "      if i in lower_alph and i!= ' ':\n",
        "        z= lower_alph.index(i)\n",
        "        print(lower_alph[z-key],end='')\n",
        "      elif i==' ':\n",
        "        print(' ',end='')\n",
        "      else:\n",
        "        z= upper_alph.index(i)\n",
        "        print(upper_alph[z-key],end='')\n",
        "    break\n",
        "\n",
        "  except:\n",
        "    print(\"\\nWrong Input....! try again.\")\n",
        "      "
      ],
      "metadata": {
        "colab": {
          "base_uri": "https://localhost:8080/"
        },
        "id": "zA-NCR_Chgl6",
        "outputId": "46c2f0df-c146-4551-d965-66edb35aabb4"
      },
      "execution_count": null,
      "outputs": [
        {
          "output_type": "stream",
          "name": "stdout",
          "text": [
            "Enter the stirng contain a-zA-Z : dPvA\n",
            "Enter the number to left shift : 2\n",
            "bNtY"
          ]
        }
      ]
    },
    {
      "cell_type": "markdown",
      "source": [
        "30.\tWrite a Python program to display formatted text (width=50) as output "
      ],
      "metadata": {
        "id": "XjC9URX_tuAT"
      }
    },
    {
      "cell_type": "code",
      "source": [
        "x = \"Rather than building all of its functionality into its core, Python was designed to be highly extensible via modules. This compact modularity has made it particularly popular as a means of adding programmable interfaces to existing applications. Van Rossum's vision of a small core language with a large standard library and easily extensible interpreter stemmed from his frustrations with ABC, which espoused the opposite approach\"\n",
        "\n",
        "def count_width(x):\n",
        "  for i in range(1,len(x)+1):\n",
        "    print(x[i-1],end='')\n",
        "    if i%50==0:\n",
        "      print('')\n",
        "\n",
        "count_width(x)"
      ],
      "metadata": {
        "colab": {
          "base_uri": "https://localhost:8080/"
        },
        "id": "4RYe5QDRvwff",
        "outputId": "dda14fa4-e2af-4cea-d78b-2894c638c8f3"
      },
      "execution_count": null,
      "outputs": [
        {
          "output_type": "stream",
          "name": "stdout",
          "text": [
            "Rather than building all of its functionality into\n",
            " its core, Python was designed to be highly extens\n",
            "ible via modules. This compact modularity has made\n",
            " it particularly popular as a means of adding prog\n",
            "rammable interfaces to existing applications. Van \n",
            "Rossum's vision of a small core language with a la\n",
            "rge standard library and easily extensible interpr\n",
            "eter stemmed from his frustrations with ABC, which\n",
            " espoused the opposite approach"
          ]
        }
      ]
    },
    {
      "cell_type": "markdown",
      "source": [
        "31.\tWrite a Python program to remove existing indentation from all of the lines in a given text "
      ],
      "metadata": {
        "id": "8HlRprMM8L8t"
      }
    },
    {
      "cell_type": "code",
      "source": [
        "#x= '''     my name is shubham\n",
        "#      i am work in ics'''\n",
        "\n",
        "x= input(\" Enter the multiline string with indentation : \")\n",
        "x_list = x.split(\"\\n\")\n",
        "#print(\"\".join(x_list)\n",
        "#print(new_string)\n",
        "for i in x_list:\n",
        "  print(i.lstrip())"
      ],
      "metadata": {
        "colab": {
          "base_uri": "https://localhost:8080/"
        },
        "id": "jX3bZdVg7tTh",
        "outputId": "f35bc7b0-e8ab-4840-a578-928a21707b01"
      },
      "execution_count": null,
      "outputs": [
        {
          "output_type": "stream",
          "name": "stdout",
          "text": [
            "my name is shubham\n",
            "i am work in ics\n"
          ]
        }
      ]
    },
    {
      "cell_type": "markdown",
      "source": [
        "32.\tWrite a Python program to add prefix text to all of the lines in a string.  "
      ],
      "metadata": {
        "id": "Boeiy3r3sdnY"
      }
    },
    {
      "cell_type": "code",
      "source": [
        "x= '''my name is shubham\n",
        "i am work in ics'''\n",
        "\n",
        "prefix = input( \"Enter the prefix : \" )\n",
        "\n",
        "new_list = x.split(\"\\n\")\n",
        "for i in new_list:\n",
        "  print(f'{prefix}{i}')"
      ],
      "metadata": {
        "colab": {
          "base_uri": "https://localhost:8080/"
        },
        "id": "jmwUINgUskS-",
        "outputId": "97f68870-0199-4d26-e05f-dadb4627e0a8"
      },
      "execution_count": null,
      "outputs": [
        {
          "output_type": "stream",
          "name": "stdout",
          "text": [
            "Enter the prefix : \\n\n",
            "\\nmy name is shubham\n",
            "\\ni am work in ics\n"
          ]
        }
      ]
    },
    {
      "cell_type": "markdown",
      "source": [
        "33.\tWrite a Python program to set the indentation of the first line.  "
      ],
      "metadata": {
        "id": "er8oSc2-t6b3"
      }
    },
    {
      "cell_type": "code",
      "source": [
        "x=\"my name is shubham\\nand i work in ics\\nas asd in bangalore\"\n",
        "print(x)\n",
        "list_x=x.split('\\n')\n",
        "\n",
        "print(\" output :\")\n",
        "for i in range(len(list_x)):\n",
        "  if i==0:\n",
        "    print(\"\\t\",list_x[i])\n",
        "  else:\n",
        "    print(list_x[i])\n"
      ],
      "metadata": {
        "colab": {
          "base_uri": "https://localhost:8080/"
        },
        "id": "i-rV-cDbskku",
        "outputId": "4e04fa5b-0eaa-467f-98e9-66fadf8ec6e9"
      },
      "execution_count": null,
      "outputs": [
        {
          "output_type": "stream",
          "name": "stdout",
          "text": [
            "my name is shubham\n",
            "and i work in ics\n",
            "as asd in bangalore\n",
            " output :\n",
            "\t my name is shubham\n",
            "and i work in ics\n",
            "as asd in bangalore\n"
          ]
        }
      ]
    },
    {
      "cell_type": "markdown",
      "source": [
        "34.\tWrite a Python program to print the following numbers up to 2 decimal places "
      ],
      "metadata": {
        "id": "G_dY55P38R2H"
      }
    },
    {
      "cell_type": "code",
      "source": [
        "while True:  \n",
        "  try:\n",
        "    print(\" Enter the decimal numbers separated by space :\")\n",
        "    numbers = list(map(float, input().split()))\n",
        "    for i in numbers:\n",
        "      if len((str(i).split('.')[1]))>2:\n",
        "        print(round(i,2))\n",
        "      else:\n",
        "        print(f'{i}0')\n",
        "    break\n",
        "  except:\n",
        "    print(\"\\nWrong Input....! Try Again\")"
      ],
      "metadata": {
        "colab": {
          "base_uri": "https://localhost:8080/"
        },
        "id": "tnKmdiVk7-5h",
        "outputId": "46672867-83b8-4cf8-ec27-05eb91224138"
      },
      "execution_count": null,
      "outputs": [
        {
          "output_type": "stream",
          "name": "stdout",
          "text": [
            " Enter the decimal numbers separated by space :\n",
            "df\n",
            "\n",
            "Wrong Input....! Try Again\n",
            " Enter the decimal numbers separated by space :\n",
            "23.4564 23 df\n",
            "\n",
            "Wrong Input....! Try Again\n",
            " Enter the decimal numbers separated by space :\n",
            "23.456 23 1234.5432 234.1\n",
            "23.46\n",
            "23.00\n",
            "1234.54\n",
            "234.10\n"
          ]
        }
      ]
    },
    {
      "cell_type": "markdown",
      "source": [
        "35.\tWrite a Python program to print the following numbers up to 2 decimal places with a sign "
      ],
      "metadata": {
        "id": "y-YDpyy5WTtq"
      }
    },
    {
      "cell_type": "code",
      "source": [
        "while True:  \n",
        "  try:\n",
        "    print(\" Enter the decimal numbers separated by space :\")\n",
        "    numbers = list(map(float, input().split()))\n",
        "    for i in numbers:\n",
        "      if len((str(i).split('.')[1]))>2 and i > 0:\n",
        "        z=(round(i,2))\n",
        "        print(f'+{z}')\n",
        "      elif len((str(i).split('.'))) and i < 0:\n",
        "        print(round(i,2))\n",
        "      else:\n",
        "        print(f'{i}0')\n",
        "    break\n",
        "  except:\n",
        "    print(\"\\nWrong Input....! Try Again\")"
      ],
      "metadata": {
        "colab": {
          "base_uri": "https://localhost:8080/"
        },
        "id": "XZphs0ZCWUuT",
        "outputId": "c179620b-81e8-40d5-c71a-36fb2d9375bc"
      },
      "execution_count": null,
      "outputs": [
        {
          "output_type": "stream",
          "name": "stdout",
          "text": [
            " Enter the decimal numbers separated by space :\n",
            "0.125\n",
            "+0.12\n"
          ]
        }
      ]
    },
    {
      "cell_type": "markdown",
      "source": [
        "36.\tWrite a Python program to print the following positive and negative numbers with no decimal places "
      ],
      "metadata": {
        "id": "N74kDNF-vG9Q"
      }
    },
    {
      "cell_type": "code",
      "source": [
        "while True:\n",
        "  try:\n",
        "    x = (input(\"Enter the numbers : \")).split()\n",
        "  \n",
        "    def integer(x):\n",
        "      for i in x:\n",
        "        print(int(float(i)), end='  ')\n",
        "\n",
        "    integer(x)\n",
        "    break\n",
        "\n",
        "  except:\n",
        "    print(\"\\nInput is not positive or Negative number\")"
      ],
      "metadata": {
        "colab": {
          "base_uri": "https://localhost:8080/"
        },
        "id": "z9Le-SF6epIE",
        "outputId": "afc01d25-51a3-4e92-e549-4cc4c29dbe13"
      },
      "execution_count": null,
      "outputs": [
        {
          "output_type": "stream",
          "name": "stdout",
          "text": [
            "Enter the numbers : gsyh\n",
            "\n",
            "Input is not positive or Negative number\n",
            "Enter the numbers : 12\n",
            "12  "
          ]
        }
      ]
    },
    {
      "cell_type": "markdown",
      "source": [
        "37.\tWrite a Python program to print the following integers with zeros to the left of the specified width "
      ],
      "metadata": {
        "id": "zWQGL6_T5Mxb"
      }
    },
    {
      "cell_type": "code",
      "source": [
        "while True:\n",
        "  try:\n",
        "\n",
        "    print(\"Enter the integers : \")\n",
        "    x = (input().split())\n",
        "\n",
        "    y= (int(input(\" Enter the width of zeros want to print at left of stirng :\")))\n",
        "\n",
        "    for i in x:\n",
        "      if int(float(i)) > 0:\n",
        "        z=0\n",
        "        while z < y:\n",
        "          new=(f'0{i}')\n",
        "          z+=1\n",
        "          i=new\n",
        "        print(new)\n",
        "      else:\n",
        "        z=0\n",
        "        d=(i.replace('-',''))\n",
        "        while z < y:\n",
        "          new=(f'0{d}')\n",
        "          z+=1\n",
        "          d=new\n",
        "        p=d*(-1)\n",
        "        print(f'-{d}')\n",
        "    break\n",
        "\n",
        "  except:\n",
        "    print(\"\\nWrong Input...! Try Again.\")  \n"
      ],
      "metadata": {
        "colab": {
          "base_uri": "https://localhost:8080/"
        },
        "id": "XDgb30bT6NyV",
        "outputId": "9c71c6d4-77a9-4942-b791-d811b7eb72a1"
      },
      "execution_count": null,
      "outputs": [
        {
          "output_type": "stream",
          "name": "stdout",
          "text": [
            "Enter the integers : \n",
            "12 -12 12.56 -12.34\n",
            " Enter the width of zeros want to print at left of stirng :5\n",
            "0000012\n",
            "-0000012\n",
            "0000012.56\n",
            "-0000012.34\n"
          ]
        }
      ]
    },
    {
      "cell_type": "markdown",
      "source": [
        "38.\tWrite a Python program to print the following integers with '*' to the right of the specified width "
      ],
      "metadata": {
        "id": "Z6jG5WA2eD1b"
      }
    },
    {
      "cell_type": "code",
      "source": [
        "while True:\n",
        "  try:\n",
        "\n",
        "    print(\"Enter the integers : \")\n",
        "    x = (input().split())\n",
        "\n",
        "    y= (int(input(\" Enter the width of '*' want to print at left of stirng :\")))\n",
        "\n",
        "    for i in x:\n",
        "        z=0\n",
        "        while z < y:\n",
        "          new=(f'{i}*')\n",
        "          z+=1\n",
        "          i=new\n",
        "        print(new)\n",
        "    break\n",
        "\n",
        "  except:\n",
        "    print(\"\\nWrong Input...! Try Again.\")  "
      ],
      "metadata": {
        "colab": {
          "base_uri": "https://localhost:8080/"
        },
        "id": "maNttHjVeG_K",
        "outputId": "8a06add5-8a5a-4de3-c86d-451eaa98e71b"
      },
      "execution_count": null,
      "outputs": [
        {
          "output_type": "stream",
          "name": "stdout",
          "text": [
            "Enter the integers : \n",
            "12 -176.2 -19\n",
            " Enter the width of '*' want to print at left of stirng :2\n",
            "12**\n",
            "-176.2**\n",
            "-19**\n"
          ]
        }
      ]
    },
    {
      "cell_type": "markdown",
      "source": [
        "39.\tWrite a Python program to display a number with a comma separator "
      ],
      "metadata": {
        "id": "BlrXu2Kzeq-X"
      }
    },
    {
      "cell_type": "code",
      "source": [
        "print(\" Enter the numbers with space separate\")\n",
        "x= (input().split())\n",
        "\n",
        "def comma_seperator(x):\n",
        "  for i in x:\n",
        "    print(i,end=',')\n",
        "\n",
        "comma_seperator(x)\n"
      ],
      "metadata": {
        "colab": {
          "base_uri": "https://localhost:8080/"
        },
        "id": "-BFEenvpeuFN",
        "outputId": "04d68582-474a-449b-f5c2-fbc86498f1a6"
      },
      "execution_count": null,
      "outputs": [
        {
          "output_type": "stream",
          "name": "stdout",
          "text": [
            " Enter the numbers with space separate\n",
            "12 34 -12.34 34\n",
            "12,34,-12.34,34,"
          ]
        }
      ]
    },
    {
      "cell_type": "markdown",
      "source": [
        "40.\tWrite a Python program to format a number with a percentage"
      ],
      "metadata": {
        "id": "h4IcYrEwgCH9"
      }
    },
    {
      "cell_type": "code",
      "source": [
        "print(\" Enter the numbers with space separate\")\n",
        "x= (input().split())\n",
        "\n",
        "def percent(x):\n",
        "  for i in x:\n",
        "    print(f'{i}%',end='  , ')\n",
        "\n",
        "percent(x)"
      ],
      "metadata": {
        "colab": {
          "base_uri": "https://localhost:8080/"
        },
        "id": "LdGOoWLugC_n",
        "outputId": "0c994f0b-1cec-43cb-c461-601ead5b1be8"
      },
      "execution_count": null,
      "outputs": [
        {
          "output_type": "stream",
          "name": "stdout",
          "text": [
            " Enter the numbers with space separate\n",
            "12 -87.23 287\n",
            "12%  , -87.23%  , 287%  , "
          ]
        }
      ]
    },
    {
      "cell_type": "code",
      "source": [],
      "metadata": {
        "id": "j5oUDYDuglEx"
      },
      "execution_count": null,
      "outputs": []
    }
  ]
}