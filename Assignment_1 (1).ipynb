{
  "nbformat": 4,
  "nbformat_minor": 0,
  "metadata": {
    "colab": {
      "provenance": []
    },
    "kernelspec": {
      "name": "python3",
      "display_name": "Python 3"
    },
    "language_info": {
      "name": "python"
    }
  },
  "cells": [
    {
      "cell_type": "markdown",
      "source": [
        "1.\tAccept number of rows from end user and print * asterisk on each row. E.g. if input is 5 then\n"
      ],
      "metadata": {
        "id": "xblxlp_eCYCC"
      }
    },
    {
      "cell_type": "code",
      "source": [
        "x = int(input(\" Enter the number of rows to print pattern : \"))\n",
        "for i in range(x):\n",
        "  print( '*')"
      ],
      "metadata": {
        "colab": {
          "base_uri": "https://localhost:8080/"
        },
        "id": "G4Xi_7rPCZvr",
        "outputId": "02343b2a-aead-4b59-9d30-db6698d5e660"
      },
      "execution_count": null,
      "outputs": [
        {
          "output_type": "stream",
          "name": "stdout",
          "text": [
            " Enter the number of rows to print pattern : 5\n",
            "*\n",
            "*\n",
            "*\n",
            "*\n",
            "*\n"
          ]
        }
      ]
    },
    {
      "cell_type": "markdown",
      "source": [
        "2.\tAccept number of rows from end user and print following * asterisk pattern ( right angle triangle )"
      ],
      "metadata": {
        "id": "a253F8HZFE3F"
      }
    },
    {
      "cell_type": "code",
      "source": [
        "\n",
        "while True:\n",
        "  try:\n",
        "    x = int(input(\"Enter Number of line to print pattern :\"))\n",
        "\n",
        "    if x==0 or x==1 :\n",
        "      print(\" Incorrect input!   Enter the input greater than 1 \")\n",
        "    else:\n",
        "      for i in range(x+1):\n",
        "        print( '*' * i)\n",
        "      break\n",
        "  except ValueError:\n",
        "        print(\"\\nThis is not a number. Try again...\")\n",
        "        print()5\n",
        "        "
      ],
      "metadata": {
        "colab": {
          "base_uri": "https://localhost:8080/"
        },
        "id": "O-CLjdbMC1HO",
        "outputId": "cd012402-b735-46d2-edb3-68561476cd99"
      },
      "execution_count": null,
      "outputs": [
        {
          "output_type": "stream",
          "name": "stdout",
          "text": [
            "Enter Number of line to print pattern :hg\n",
            "\n",
            "This is not a number. Try again...\n",
            "\n",
            "Enter Number of line to print pattern :5\n",
            "\n",
            "*\n",
            "**\n",
            "***\n",
            "****\n",
            "*****\n"
          ]
        }
      ]
    },
    {
      "cell_type": "markdown",
      "source": [
        "3.\tAccept number of rows from end user and print following * asterisk pattern ( inverted right-angle triangle )"
      ],
      "metadata": {
        "id": "Qsm90RkwFLRS"
      }
    },
    {
      "cell_type": "code",
      "source": [
        "while True:\n",
        "  try:\n",
        "    x = int(input(\"Enter Number of line to print pattern :\"))\n",
        "    print('')\n",
        "    if x==0 or x==1 :\n",
        "      print(\" Incorrect input!   Enter the input greater than 1 \")\n",
        "    else:\n",
        "      i=0\n",
        "      z=x\n",
        "      while i < (z+1):\n",
        "        print( '*' * x)\n",
        "        i+=1\n",
        "        x-=1\n",
        "      break\n",
        "  except ValueError:\n",
        "    print(\"\\nThis is not a number. Try again...\")\n",
        "    print()"
      ],
      "metadata": {
        "id": "ROnpgBJ7EDPN",
        "colab": {
          "base_uri": "https://localhost:8080/"
        },
        "outputId": "b3fd3ccc-35b8-4f05-ca38-be299d2af12e"
      },
      "execution_count": null,
      "outputs": [
        {
          "output_type": "stream",
          "name": "stdout",
          "text": [
            "Enter Number of line to print pattern :7\n",
            "\n",
            "*******\n",
            "******\n",
            "*****\n",
            "****\n",
            "***\n",
            "**\n",
            "*\n",
            "\n"
          ]
        }
      ]
    },
    {
      "cell_type": "markdown",
      "source": [
        "4.\tAccept number of rows from end user and print following * asterisk pattern ( equilateral triangle )"
      ],
      "metadata": {
        "id": "56uL42R0GLbe"
      }
    },
    {
      "cell_type": "code",
      "source": [
        "while True:\n",
        "  try:\n",
        "    x = int(input(\"Enter Number of line to print pattern :\"))\n",
        "    print('')\n",
        "    if x==0 or x==1 :\n",
        "      print(\" Incorrect input!   Enter the input greater than 1 \")\n",
        "    else:\n",
        "      i=x-1\n",
        "      j=1\n",
        "      k=0\n",
        "      while k < x:\n",
        "        print(' '*i,'*'*j,' '*i)\n",
        "        i-=1\n",
        "        j+=2\n",
        "        k+=1\n",
        "      break\n",
        "  except ValueError:\n",
        "    print(\"\\nThis is not a number. Try again...\")\n",
        "    print()\n"
      ],
      "metadata": {
        "colab": {
          "base_uri": "https://localhost:8080/"
        },
        "id": "ARDc81xHGOlB",
        "outputId": "1d9ccf89-f396-4690-fb16-fabda5ecade1"
      },
      "execution_count": null,
      "outputs": [
        {
          "output_type": "stream",
          "name": "stdout",
          "text": [
            "Enter Number of line to print pattern :sw\n",
            "\n",
            "This is not a number. Try again...\n",
            "\n",
            "Enter Number of line to print pattern :0\n",
            "\n",
            " Incorrect input!   Enter the input greater than 1 \n",
            "Enter Number of line to print pattern :1\n",
            "\n",
            " Incorrect input!   Enter the input greater than 1 \n",
            "Enter Number of line to print pattern :2\n",
            "\n",
            "  *  \n",
            " *** \n"
          ]
        }
      ]
    },
    {
      "cell_type": "markdown",
      "source": [
        "5.\tAccept number of rows from end user and print following * asterisk pattern (( inverted equilateral triangle ))"
      ],
      "metadata": {
        "id": "2Hj9gAapIdeK"
      }
    },
    {
      "cell_type": "code",
      "source": [
        "while True:\n",
        "  try:\n",
        "    x = int(input(\"Enter Number of line to print pattern :\"))\n",
        "    print('')\n",
        "    if x==0 or x==1 :\n",
        "      print(\" Incorrect input!   Enter the input greater than 1 \")\n",
        "    else:\n",
        "      i=0\n",
        "      j=(x*2)-1\n",
        "      k=0\n",
        "      while k < x:\n",
        "        print(' '*i,'*'*j,' '*i)\n",
        "        i+=1\n",
        "        j-=2\n",
        "        k+=1\n",
        "      break\n",
        "  except ValueError:\n",
        "    print(\"\\nThis is not a number. Try again...\")\n",
        "    print()\n"
      ],
      "metadata": {
        "colab": {
          "base_uri": "https://localhost:8080/"
        },
        "id": "NHCfSKsAIiBO",
        "outputId": "ae4e3fbc-36c0-4cbc-b47c-dff466896b41"
      },
      "execution_count": null,
      "outputs": [
        {
          "output_type": "stream",
          "name": "stdout",
          "text": [
            "Enter Number of line to print pattern :5\n",
            "\n",
            " ********* \n",
            "  *******  \n",
            "   *****   \n",
            "    ***    \n",
            "     *     \n"
          ]
        }
      ]
    },
    {
      "cell_type": "markdown",
      "source": [
        "6.\tAccept number of rows from end user and print following * asterisk pattern ( full diamond )"
      ],
      "metadata": {
        "id": "_HTkNo69McA5"
      }
    },
    {
      "cell_type": "code",
      "source": [
        "while True:\n",
        "  try:\n",
        "    x = int(input(\"Enter Number of line to print pattern :\"))\n",
        "    print('')\n",
        "\n",
        "    if x==1 or x==2 or x==0:\n",
        "      print(\"Please enter the number of line greater than 2 \")\n",
        "    elif x%2==0:\n",
        "      print(\"Please enter odd number of line to print\")\n",
        "    else:\n",
        "      i=x//2\n",
        "      j=1\n",
        "      z=0\n",
        "      while z < ((x//2)+1):\n",
        "        print(' '*i,'*'*j)\n",
        "        i-=1\n",
        "        j+=2\n",
        "        z+=1\n",
        "      k=1\n",
        "      l=(x-2)\n",
        "      m=0\n",
        "      while m < x//2:\n",
        "        print(' '*k,'*'*l)\n",
        "        k+=1\n",
        "        l-=2\n",
        "        m+=1\n",
        "      break\n",
        "  except ValueError:\n",
        "    print(\"\\nThis is not a number. Try again...\")\n",
        "    print()\n"
      ],
      "metadata": {
        "colab": {
          "base_uri": "https://localhost:8080/"
        },
        "id": "3Bd73m57McwO",
        "outputId": "68de79a1-b7e9-4744-e058-40015a63e93e"
      },
      "execution_count": null,
      "outputs": [
        {
          "output_type": "stream",
          "name": "stdout",
          "text": [
            "Enter Number of line to print pattern :8\n",
            "\n",
            "Please enter odd number of line to print\n",
            "Enter Number of line to print pattern :9\n",
            "\n",
            "     *\n",
            "    ***\n",
            "   *****\n",
            "  *******\n",
            " *********\n",
            "  *******\n",
            "   *****\n",
            "    ***\n",
            "     *\n"
          ]
        }
      ]
    },
    {
      "cell_type": "markdown",
      "source": [
        "7.\tAccept number of rows from end user and print following * asterisk pattern ( half diamond – right )"
      ],
      "metadata": {
        "id": "8A4X-vh1NyzQ"
      }
    },
    {
      "cell_type": "code",
      "source": [
        "while True:\n",
        "  try:\n",
        "\n",
        "    x = int(input(\"Enter Number of line to print pattern :\"))\n",
        "    print('')\n",
        "\n",
        "    if x==1 or x==2 or x==0:\n",
        "      print(\"Please enter the number of line greater than 2 \")\n",
        "    elif x%2==0:\n",
        "      print(\"Please enter odd number of line to print\")\n",
        "    else:\n",
        "      i=x//2\n",
        "      j=1\n",
        "      z=0\n",
        "      while z < ((x//2+1)):\n",
        "        print('*'*j,' '*i)\n",
        "        i-=1\n",
        "        j+=1\n",
        "        z+=1\n",
        "      k=1\n",
        "      l=(x//2)\n",
        "      m=0\n",
        "      while m < x//2:\n",
        "        print('*'*l,' '*k)\n",
        "        k+=1\n",
        "        l-=1\n",
        "        m+=1\n",
        "      break\n",
        "  except ValueError:\n",
        "    print(\"\\nThis is not a number. Try again...\")\n",
        "    print()\n"
      ],
      "metadata": {
        "colab": {
          "base_uri": "https://localhost:8080/"
        },
        "id": "_u_vqWzpNzmN",
        "outputId": "4d3eae75-622c-470f-c6e2-2047b0ecebd6"
      },
      "execution_count": null,
      "outputs": [
        {
          "output_type": "stream",
          "name": "stdout",
          "text": [
            "Enter Number of line to print pattern :6\n",
            "\n",
            "Please enter odd number of line to print\n",
            "Enter Number of line to print pattern :9\n",
            "\n",
            "*     \n",
            "**    \n",
            "***   \n",
            "****  \n",
            "***** \n",
            "****  \n",
            "***   \n",
            "**    \n",
            "*     \n"
          ]
        }
      ]
    },
    {
      "cell_type": "markdown",
      "source": [
        "8.\tAccept number of rows from end user and print following * asterisk pattern ( half diamond – left )"
      ],
      "metadata": {
        "id": "GDlvtD0g6XRD"
      }
    },
    {
      "cell_type": "code",
      "source": [
        "while True:\n",
        "  try:    \n",
        "    \n",
        "    x = int(input(\"Enter Number of line to print pattern :\"))\n",
        "    print('')\n",
        "\n",
        "    if x==1 or x==2 or x==0:\n",
        "      print(\"Please enter the number of line greater than 2 \")\n",
        "    elif x%2==0:\n",
        "      print(\"Please enter odd number of line to print\")\n",
        "    else:\n",
        "      i=x//2\n",
        "      j=1\n",
        "      z=0\n",
        "      while z < ((x//2)+1):\n",
        "        print(' '*i,'*'*j)\n",
        "        i-=1\n",
        "        j+=1\n",
        "        z+=1\n",
        "      k=1\n",
        "      l=(x//2)\n",
        "      m=0\n",
        "      while m < x//2:\n",
        "        print(' '*k,'*'*l)\n",
        "        k+=1\n",
        "        l-=1\n",
        "        m+=1\n",
        "      break\n",
        "  except ValueError:\n",
        "    print(\"\\nThis is not a number. Try again...\")\n",
        "    print()\n"
      ],
      "metadata": {
        "colab": {
          "base_uri": "https://localhost:8080/"
        },
        "id": "zzLSNffRs1zT",
        "outputId": "3e07a97f-ea96-4947-fdf4-148611f87dda"
      },
      "execution_count": null,
      "outputs": [
        {
          "output_type": "stream",
          "name": "stdout",
          "text": [
            "Enter Number of line to print pattern :11\n",
            "\n",
            "      *\n",
            "     **\n",
            "    ***\n",
            "   ****\n",
            "  *****\n",
            " ******\n",
            "  *****\n",
            "   ****\n",
            "    ***\n",
            "     **\n",
            "      *\n"
          ]
        }
      ]
    },
    {
      "cell_type": "markdown",
      "source": [
        "9.\tAccept number of rows and columns form end user and print following pattern e.g. if row = 5 and column = 5 then"
      ],
      "metadata": {
        "id": "zzbQ6qOo6hYO"
      }
    },
    {
      "cell_type": "code",
      "source": [
        "while True:\n",
        "  try:\n",
        "\n",
        "    x = int(input(\"Enter Number of row to print pattern :\"))\n",
        "    y = int(input(\"Enter Number of column to print pattern :\"))\n",
        "    print('')\n",
        "    for i in range(x):\n",
        "      print('*'*y)\n",
        "    break\n",
        "  except ValueError:\n",
        "    print(\"\\nThis is not a number. Try again...\")\n",
        "    print()\n"
      ],
      "metadata": {
        "colab": {
          "base_uri": "https://localhost:8080/"
        },
        "id": "fxdQETr36kC3",
        "outputId": "2d69d5c4-de7f-451d-9e9c-32647fd87717"
      },
      "execution_count": null,
      "outputs": [
        {
          "output_type": "stream",
          "name": "stdout",
          "text": [
            "Enter Number of row to print pattern :5\n",
            "Enter Number of column to print pattern :3\n",
            "\n",
            "***\n",
            "***\n",
            "***\n",
            "***\n",
            "***\n"
          ]
        }
      ]
    },
    {
      "cell_type": "markdown",
      "source": [
        "10.\tAccept number of rows from end user and print following * asterisk pattern"
      ],
      "metadata": {
        "id": "Cc-DyYLb8uWP"
      }
    },
    {
      "cell_type": "code",
      "source": [
        "while True:\n",
        "  try:\n",
        "\n",
        "    x = int(input(\"Enter Number of line to print pattern :\"))\n",
        "    print('')\n",
        "\n",
        "    if x==0 or x ==1 or x==2 or x==3:\n",
        "      print(\"Enter the number line greater than 2 to print pattern :\")\n",
        "    elif x%2==0:\n",
        "      print(\"Enter the odd number of line more than 3 to print pattern\")\n",
        "    else:\n",
        "      i=0\n",
        "      j=x\n",
        "      k=0\n",
        "      while k < ((x//2)+1):\n",
        "        print(' '*i,'*'*j,' '*i)\n",
        "        i+=1\n",
        "        j-=2\n",
        "        k+=1\n",
        "      y=3\n",
        "      z=(x//2)-1\n",
        "      p=0\n",
        "      while p < (x//2):\n",
        "        print(' '*z,'*'*y,' '*z)\n",
        "        p+=1\n",
        "        z-=1\n",
        "        y+=2\n",
        "      break\n",
        "  except ValueError:\n",
        "    print(\"\\nThis is not a number. Try again...\")\n",
        "    print()\n",
        "\n"
      ],
      "metadata": {
        "colab": {
          "base_uri": "https://localhost:8080/"
        },
        "id": "jh6kTHXp8vFX",
        "outputId": "7f16d313-7ec1-45e3-ec24-2011f7f020ab"
      },
      "execution_count": null,
      "outputs": [
        {
          "output_type": "stream",
          "name": "stdout",
          "text": [
            "Enter Number of line to print pattern :hg\n",
            "\n",
            "This is not a number. Try again...\n",
            "\n",
            "Enter Number of line to print pattern :6\n",
            "\n",
            "Enter the odd number of line more than 3 to print pattern\n",
            "Enter Number of line to print pattern :5\n",
            "\n",
            " ***** \n",
            "  ***  \n",
            "   *   \n",
            "  ***  \n",
            " ***** \n"
          ]
        }
      ]
    },
    {
      "cell_type": "code",
      "source": [
        "n=9"
      ],
      "metadata": {
        "id": "XxTXk1F6AtL-"
      },
      "execution_count": null,
      "outputs": []
    },
    {
      "cell_type": "code",
      "source": [
        "for i in range(1,n+1):\n",
        "  print(\" \"*(n-i),'* '*i)"
      ],
      "metadata": {
        "colab": {
          "base_uri": "https://localhost:8080/"
        },
        "id": "k9CRnhENqmIo",
        "outputId": "7a06731b-ed20-4103-95ba-0cc2c031e340"
      },
      "execution_count": null,
      "outputs": [
        {
          "output_type": "stream",
          "name": "stdout",
          "text": [
            "         * \n",
            "        * * \n",
            "       * * * \n",
            "      * * * * \n",
            "     * * * * * \n",
            "    * * * * * * \n",
            "   * * * * * * * \n",
            "  * * * * * * * * \n",
            " * * * * * * * * * \n"
          ]
        }
      ]
    },
    {
      "cell_type": "code",
      "source": [],
      "metadata": {
        "id": "IVr1giyNrDoA"
      },
      "execution_count": null,
      "outputs": []
    }
  ]
}