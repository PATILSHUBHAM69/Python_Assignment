{
  "nbformat": 4,
  "nbformat_minor": 0,
  "metadata": {
    "colab": {
      "provenance": []
    },
    "kernelspec": {
      "name": "python3",
      "display_name": "Python 3"
    },
    "language_info": {
      "name": "python"
    }
  },
  "cells": [
    {
      "cell_type": "markdown",
      "source": [
        "**Q 1**"
      ],
      "metadata": {
        "id": "bQNnphrdydmg"
      }
    },
    {
      "cell_type": "code",
      "source": [
        "print(\"______________________Number 1 to 100_____________________\")\n",
        "x=10\n",
        "y=110\n",
        "j=1\n",
        "z=11\n",
        "k=1\n",
        "while k < z:\n",
        "  for i in range(x,y,10):\n",
        "      if j<i:\n",
        "        print(\"\",j,end='')\n",
        "        print(' | ',end='')\n",
        "      elif j==10:\n",
        "        print(j,end='')\n",
        "        print(' | ',end='')\n",
        "      elif j==100:\n",
        "        print(\"\",j,end='')\n",
        "        print('|',end='')\n",
        "      else:\n",
        "        print(\"\",j,end='')\n",
        "        print(' | ',end='')\n",
        "      j+=10\n",
        "  print(\" \")\n",
        "  k=k+1\n",
        "  j=k\n",
        "print(\"__________________________________________________________\")"
      ],
      "metadata": {
        "colab": {
          "base_uri": "https://localhost:8080/"
        },
        "id": "HZha07jdyfox",
        "outputId": "ae81d683-9a5c-4f88-b5c2-a240be0c09fa"
      },
      "execution_count": null,
      "outputs": [
        {
          "output_type": "stream",
          "name": "stdout",
          "text": [
            "______________________Number 1 to 100_____________________\n",
            " 1 |  11 |  21 |  31 |  41 |  51 |  61 |  71 |  81 |  91 |  \n",
            " 2 |  12 |  22 |  32 |  42 |  52 |  62 |  72 |  82 |  92 |  \n",
            " 3 |  13 |  23 |  33 |  43 |  53 |  63 |  73 |  83 |  93 |  \n",
            " 4 |  14 |  24 |  34 |  44 |  54 |  64 |  74 |  84 |  94 |  \n",
            " 5 |  15 |  25 |  35 |  45 |  55 |  65 |  75 |  85 |  95 |  \n",
            " 6 |  16 |  26 |  36 |  46 |  56 |  66 |  76 |  86 |  96 |  \n",
            " 7 |  17 |  27 |  37 |  47 |  57 |  67 |  77 |  87 |  97 |  \n",
            " 8 |  18 |  28 |  38 |  48 |  58 |  68 |  78 |  88 |  98 |  \n",
            " 9 |  19 |  29 |  39 |  49 |  59 |  69 |  79 |  89 |  99 |  \n",
            "10 |  20 |  30 |  40 |  50 |  60 |  70 |  80 |  90 |  100| \n",
            "__________________________________________________________\n"
          ]
        }
      ]
    },
    {
      "cell_type": "markdown",
      "source": [
        "**Q 2**"
      ],
      "metadata": {
        "id": "TG0AQ7dayrBO"
      }
    },
    {
      "cell_type": "code",
      "source": [
        "while True:\n",
        "  try:\n",
        "    k=int(input(\" Enter the any number :\"))\n",
        "    bx=k\n",
        "    l=0\n",
        "    lst=[]\n",
        "\n",
        "    if k < 100:\n",
        "      print(\"Number Tabels from 1  to \",k)\n",
        "      for i in range(1,11):\n",
        "        while (i < k+1):\n",
        "          if i == 10:\n",
        "            print(i,end='')\n",
        "            print('| ',end='')\n",
        "          else:\n",
        "            print(i,end='')\n",
        "            print(' | ',end='')\n",
        "          i=i+10\n",
        "        print('')\n",
        "      break\n",
        "\n",
        "    else:\n",
        "      for i in range((k//100)+1):\n",
        "        if k > 100:\n",
        "          lst.append(100)\n",
        "          k=k-100\n",
        "          l=l+100\n",
        "        else:\n",
        "          lst.append(k)\n",
        "\n",
        "      \n",
        "      lst.pop(0)\n",
        "      lst.append(0)\n",
        "      \n",
        "      def num_table(lx,ly,lz):\n",
        "        for i in range(lx,ly):\n",
        "          while(i<=lz):\n",
        "            print('\\t',i,end=\" \")\n",
        "            print(\"|\",end=\" \")\n",
        "            i=i+10\n",
        "          print(\"\") \n",
        "      x=1\n",
        "      y=11\n",
        "      z=100\n",
        "      import math\n",
        "      for i in range(math.ceil(bx/100)):\n",
        "        print('')\n",
        "        print(\"Numbers Tabel from\",x,\" to \",z,)\n",
        "        print('')\n",
        "        num_table(x,y,z)\n",
        "        x+=100\n",
        "        y+=100\n",
        "        z=z+lst[i]\n",
        "      break\n",
        "\n",
        "  except:\n",
        "    print(\"\\nThis is not a number.....!  Try Again\")\n"
      ],
      "metadata": {
        "colab": {
          "base_uri": "https://localhost:8080/"
        },
        "id": "nDHKLbdjy_bJ",
        "outputId": "f6670f4a-54ac-4991-808b-9cd95f168243"
      },
      "execution_count": null,
      "outputs": [
        {
          "output_type": "stream",
          "name": "stdout",
          "text": [
            " Enter the any number :457\n",
            "\n",
            "Numbers Tabel from 1  to  100\n",
            "\n",
            "\t 1 | \t 11 | \t 21 | \t 31 | \t 41 | \t 51 | \t 61 | \t 71 | \t 81 | \t 91 | \n",
            "\t 2 | \t 12 | \t 22 | \t 32 | \t 42 | \t 52 | \t 62 | \t 72 | \t 82 | \t 92 | \n",
            "\t 3 | \t 13 | \t 23 | \t 33 | \t 43 | \t 53 | \t 63 | \t 73 | \t 83 | \t 93 | \n",
            "\t 4 | \t 14 | \t 24 | \t 34 | \t 44 | \t 54 | \t 64 | \t 74 | \t 84 | \t 94 | \n",
            "\t 5 | \t 15 | \t 25 | \t 35 | \t 45 | \t 55 | \t 65 | \t 75 | \t 85 | \t 95 | \n",
            "\t 6 | \t 16 | \t 26 | \t 36 | \t 46 | \t 56 | \t 66 | \t 76 | \t 86 | \t 96 | \n",
            "\t 7 | \t 17 | \t 27 | \t 37 | \t 47 | \t 57 | \t 67 | \t 77 | \t 87 | \t 97 | \n",
            "\t 8 | \t 18 | \t 28 | \t 38 | \t 48 | \t 58 | \t 68 | \t 78 | \t 88 | \t 98 | \n",
            "\t 9 | \t 19 | \t 29 | \t 39 | \t 49 | \t 59 | \t 69 | \t 79 | \t 89 | \t 99 | \n",
            "\t 10 | \t 20 | \t 30 | \t 40 | \t 50 | \t 60 | \t 70 | \t 80 | \t 90 | \t 100 | \n",
            "\n",
            "Numbers Tabel from 101  to  200\n",
            "\n",
            "\t 101 | \t 111 | \t 121 | \t 131 | \t 141 | \t 151 | \t 161 | \t 171 | \t 181 | \t 191 | \n",
            "\t 102 | \t 112 | \t 122 | \t 132 | \t 142 | \t 152 | \t 162 | \t 172 | \t 182 | \t 192 | \n",
            "\t 103 | \t 113 | \t 123 | \t 133 | \t 143 | \t 153 | \t 163 | \t 173 | \t 183 | \t 193 | \n",
            "\t 104 | \t 114 | \t 124 | \t 134 | \t 144 | \t 154 | \t 164 | \t 174 | \t 184 | \t 194 | \n",
            "\t 105 | \t 115 | \t 125 | \t 135 | \t 145 | \t 155 | \t 165 | \t 175 | \t 185 | \t 195 | \n",
            "\t 106 | \t 116 | \t 126 | \t 136 | \t 146 | \t 156 | \t 166 | \t 176 | \t 186 | \t 196 | \n",
            "\t 107 | \t 117 | \t 127 | \t 137 | \t 147 | \t 157 | \t 167 | \t 177 | \t 187 | \t 197 | \n",
            "\t 108 | \t 118 | \t 128 | \t 138 | \t 148 | \t 158 | \t 168 | \t 178 | \t 188 | \t 198 | \n",
            "\t 109 | \t 119 | \t 129 | \t 139 | \t 149 | \t 159 | \t 169 | \t 179 | \t 189 | \t 199 | \n",
            "\t 110 | \t 120 | \t 130 | \t 140 | \t 150 | \t 160 | \t 170 | \t 180 | \t 190 | \t 200 | \n",
            "\n",
            "Numbers Tabel from 201  to  300\n",
            "\n",
            "\t 201 | \t 211 | \t 221 | \t 231 | \t 241 | \t 251 | \t 261 | \t 271 | \t 281 | \t 291 | \n",
            "\t 202 | \t 212 | \t 222 | \t 232 | \t 242 | \t 252 | \t 262 | \t 272 | \t 282 | \t 292 | \n",
            "\t 203 | \t 213 | \t 223 | \t 233 | \t 243 | \t 253 | \t 263 | \t 273 | \t 283 | \t 293 | \n",
            "\t 204 | \t 214 | \t 224 | \t 234 | \t 244 | \t 254 | \t 264 | \t 274 | \t 284 | \t 294 | \n",
            "\t 205 | \t 215 | \t 225 | \t 235 | \t 245 | \t 255 | \t 265 | \t 275 | \t 285 | \t 295 | \n",
            "\t 206 | \t 216 | \t 226 | \t 236 | \t 246 | \t 256 | \t 266 | \t 276 | \t 286 | \t 296 | \n",
            "\t 207 | \t 217 | \t 227 | \t 237 | \t 247 | \t 257 | \t 267 | \t 277 | \t 287 | \t 297 | \n",
            "\t 208 | \t 218 | \t 228 | \t 238 | \t 248 | \t 258 | \t 268 | \t 278 | \t 288 | \t 298 | \n",
            "\t 209 | \t 219 | \t 229 | \t 239 | \t 249 | \t 259 | \t 269 | \t 279 | \t 289 | \t 299 | \n",
            "\t 210 | \t 220 | \t 230 | \t 240 | \t 250 | \t 260 | \t 270 | \t 280 | \t 290 | \t 300 | \n",
            "\n",
            "Numbers Tabel from 301  to  400\n",
            "\n",
            "\t 301 | \t 311 | \t 321 | \t 331 | \t 341 | \t 351 | \t 361 | \t 371 | \t 381 | \t 391 | \n",
            "\t 302 | \t 312 | \t 322 | \t 332 | \t 342 | \t 352 | \t 362 | \t 372 | \t 382 | \t 392 | \n",
            "\t 303 | \t 313 | \t 323 | \t 333 | \t 343 | \t 353 | \t 363 | \t 373 | \t 383 | \t 393 | \n",
            "\t 304 | \t 314 | \t 324 | \t 334 | \t 344 | \t 354 | \t 364 | \t 374 | \t 384 | \t 394 | \n",
            "\t 305 | \t 315 | \t 325 | \t 335 | \t 345 | \t 355 | \t 365 | \t 375 | \t 385 | \t 395 | \n",
            "\t 306 | \t 316 | \t 326 | \t 336 | \t 346 | \t 356 | \t 366 | \t 376 | \t 386 | \t 396 | \n",
            "\t 307 | \t 317 | \t 327 | \t 337 | \t 347 | \t 357 | \t 367 | \t 377 | \t 387 | \t 397 | \n",
            "\t 308 | \t 318 | \t 328 | \t 338 | \t 348 | \t 358 | \t 368 | \t 378 | \t 388 | \t 398 | \n",
            "\t 309 | \t 319 | \t 329 | \t 339 | \t 349 | \t 359 | \t 369 | \t 379 | \t 389 | \t 399 | \n",
            "\t 310 | \t 320 | \t 330 | \t 340 | \t 350 | \t 360 | \t 370 | \t 380 | \t 390 | \t 400 | \n",
            "\n",
            "Numbers Tabel from 401  to  457\n",
            "\n",
            "\t 401 | \t 411 | \t 421 | \t 431 | \t 441 | \t 451 | \n",
            "\t 402 | \t 412 | \t 422 | \t 432 | \t 442 | \t 452 | \n",
            "\t 403 | \t 413 | \t 423 | \t 433 | \t 443 | \t 453 | \n",
            "\t 404 | \t 414 | \t 424 | \t 434 | \t 444 | \t 454 | \n",
            "\t 405 | \t 415 | \t 425 | \t 435 | \t 445 | \t 455 | \n",
            "\t 406 | \t 416 | \t 426 | \t 436 | \t 446 | \t 456 | \n",
            "\t 407 | \t 417 | \t 427 | \t 437 | \t 447 | \t 457 | \n",
            "\t 408 | \t 418 | \t 428 | \t 438 | \t 448 | \n",
            "\t 409 | \t 419 | \t 429 | \t 439 | \t 449 | \n",
            "\t 410 | \t 420 | \t 430 | \t 440 | \t 450 | \n"
          ]
        }
      ]
    },
    {
      "cell_type": "markdown",
      "source": [
        "**Q 3**"
      ],
      "metadata": {
        "id": "WF5McINtzARG"
      }
    },
    {
      "cell_type": "code",
      "source": [
        "print(\"______________________Number 1 to 100_____________________\")\n",
        "x=10\n",
        "y=110\n",
        "j=1\n",
        "z=101\n",
        "k=1\n",
        "while k < z:\n",
        "  for i in range(x,y,10):\n",
        "      if j<10:\n",
        "        print(\" \",j,end='')\n",
        "        print(' | ',end='')\n",
        "      elif j==100:\n",
        "        print(\"\",j,end='')\n",
        "        print('| ',end='')\n",
        "      else:\n",
        "        print(\"\",j,end='')\n",
        "        print(' | ',end='')\n",
        "      j+=1\n",
        "  print(\" \")\n",
        "  k=k+10\n",
        "  j=k\n",
        "print(\"__________________________________________________________\")"
      ],
      "metadata": {
        "colab": {
          "base_uri": "https://localhost:8080/"
        },
        "id": "gqcKIz8bytF4",
        "outputId": "c63c4d24-9616-4779-bbcf-ccb0e013c819"
      },
      "execution_count": null,
      "outputs": [
        {
          "output_type": "stream",
          "name": "stdout",
          "text": [
            "______________________Number 1 to 100_____________________\n",
            "  1 |   2 |   3 |   4 |   5 |   6 |   7 |   8 |   9 |  10 |  \n",
            " 11 |  12 |  13 |  14 |  15 |  16 |  17 |  18 |  19 |  20 |  \n",
            " 21 |  22 |  23 |  24 |  25 |  26 |  27 |  28 |  29 |  30 |  \n",
            " 31 |  32 |  33 |  34 |  35 |  36 |  37 |  38 |  39 |  40 |  \n",
            " 41 |  42 |  43 |  44 |  45 |  46 |  47 |  48 |  49 |  50 |  \n",
            " 51 |  52 |  53 |  54 |  55 |  56 |  57 |  58 |  59 |  60 |  \n",
            " 61 |  62 |  63 |  64 |  65 |  66 |  67 |  68 |  69 |  70 |  \n",
            " 71 |  72 |  73 |  74 |  75 |  76 |  77 |  78 |  79 |  80 |  \n",
            " 81 |  82 |  83 |  84 |  85 |  86 |  87 |  88 |  89 |  90 |  \n",
            " 91 |  92 |  93 |  94 |  95 |  96 |  97 |  98 |  99 |  100|  \n",
            "__________________________________________________________\n"
          ]
        }
      ]
    },
    {
      "cell_type": "markdown",
      "source": [
        "**Q 4**"
      ],
      "metadata": {
        "id": "zTwOBcpIy0oa"
      }
    },
    {
      "cell_type": "code",
      "source": [
        "print(\"________________Multiplication Tabel From 11 to 20_________________\")\n",
        "for i in range(1,11):\n",
        "  print(\"  \")\n",
        "  for j in range(11,21):\n",
        "    if i*j <100:\n",
        "      print(\"  \",i*j, end=' ')\n",
        "      print('|',end='')\n",
        "    else:\n",
        "      print(\"  \",i*j,end='')\n",
        "      print('|',end='')\n",
        "print(\"\")\n",
        "print(\"_________________________________________________________________\")"
      ],
      "metadata": {
        "colab": {
          "base_uri": "https://localhost:8080/"
        },
        "id": "4zIN8MUMy2tl",
        "outputId": "28b7dbda-8f40-4ce5-b241-f76bc95986b4"
      },
      "execution_count": null,
      "outputs": [
        {
          "output_type": "stream",
          "name": "stdout",
          "text": [
            "________________Multiplication Tabel From 11 to 20_________________\n",
            "  \n",
            "   11 |   12 |   13 |   14 |   15 |   16 |   17 |   18 |   19 |   20 |  \n",
            "   22 |   24 |   26 |   28 |   30 |   32 |   34 |   36 |   38 |   40 |  \n",
            "   33 |   36 |   39 |   42 |   45 |   48 |   51 |   54 |   57 |   60 |  \n",
            "   44 |   48 |   52 |   56 |   60 |   64 |   68 |   72 |   76 |   80 |  \n",
            "   55 |   60 |   65 |   70 |   75 |   80 |   85 |   90 |   95 |   100|  \n",
            "   66 |   72 |   78 |   84 |   90 |   96 |   102|   108|   114|   120|  \n",
            "   77 |   84 |   91 |   98 |   105|   112|   119|   126|   133|   140|  \n",
            "   88 |   96 |   104|   112|   120|   128|   136|   144|   152|   160|  \n",
            "   99 |   108|   117|   126|   135|   144|   153|   162|   171|   180|  \n",
            "   110|   120|   130|   140|   150|   160|   170|   180|   190|   200|\n",
            "_________________________________________________________________\n"
          ]
        }
      ]
    },
    {
      "cell_type": "markdown",
      "source": [
        "**Q 5**"
      ],
      "metadata": {
        "id": "i1kfDA6Gzxf8"
      }
    },
    {
      "cell_type": "code",
      "source": [
        "print(\"_________________Multiplication Tabel From 21 to 30___________________\")\n",
        "for i in range(1,11):\n",
        "  print(\"  \")\n",
        "  for j in range(21,31):\n",
        "    if i*j <100:\n",
        "      print(\"  \",i*j, end=' ')\n",
        "      print('|',end='')\n",
        "    else:\n",
        "      print(\"  \",i*j,end='')\n",
        "      print('|',end='')\n",
        "print(\" \")\n",
        "print(\"_________________________________________________________________________\")"
      ],
      "metadata": {
        "colab": {
          "base_uri": "https://localhost:8080/"
        },
        "id": "BrnhSrOLzzt0",
        "outputId": "b1d25c40-440d-4cd9-ff56-84dca0b3c888"
      },
      "execution_count": null,
      "outputs": [
        {
          "output_type": "stream",
          "name": "stdout",
          "text": [
            "_________________Multiplication Tabel From 21 to 30___________________\n",
            "  \n",
            "   21 |   22 |   23 |   24 |   25 |   26 |   27 |   28 |   29 |   30 |  \n",
            "   42 |   44 |   46 |   48 |   50 |   52 |   54 |   56 |   58 |   60 |  \n",
            "   63 |   66 |   69 |   72 |   75 |   78 |   81 |   84 |   87 |   90 |  \n",
            "   84 |   88 |   92 |   96 |   100|   104|   108|   112|   116|   120|  \n",
            "   105|   110|   115|   120|   125|   130|   135|   140|   145|   150|  \n",
            "   126|   132|   138|   144|   150|   156|   162|   168|   174|   180|  \n",
            "   147|   154|   161|   168|   175|   182|   189|   196|   203|   210|  \n",
            "   168|   176|   184|   192|   200|   208|   216|   224|   232|   240|  \n",
            "   189|   198|   207|   216|   225|   234|   243|   252|   261|   270|  \n",
            "   210|   220|   230|   240|   250|   260|   270|   280|   290|   300| \n",
            "_________________________________________________________________________\n"
          ]
        }
      ]
    },
    {
      "cell_type": "markdown",
      "source": [
        "Q 6"
      ],
      "metadata": {
        "id": "_xNKMRHD0Awg"
      }
    },
    {
      "cell_type": "code",
      "source": [
        "while True:\n",
        "  try:\n",
        "    x= int(input(\" Enter the number from start : \"))\n",
        "    y= int(input(\" Enter the number to end :\"))\n",
        "\n",
        "    if x<y:\n",
        "      print(\"__________________Multiplication Tabel From \",x,\" to \",y,\"_________________\")\n",
        "      for i in range(1,11):\n",
        "        print(\"  \")\n",
        "        for j in range(x,y+1):\n",
        "          if i*j <100:\n",
        "            print(\"  \",i*j, end=' ')\n",
        "            print('|',end='')\n",
        "          else:\n",
        "            print(\"  \",i*j,end='')\n",
        "            print('|',end='')\n",
        "      print(\"\")\n",
        "\n",
        "    else:\n",
        "      print(\"__________________Multiplication Tabel From \",x,\" to \",y,\"_________________\")\n",
        "      for i in range(1,11):\n",
        "        print(\"  \")\n",
        "        for j in range(x,y-1,-1):\n",
        "          if i*j <100:\n",
        "            print(\"  \",i*j, end=' ')\n",
        "            print('|',end='')\n",
        "          else:\n",
        "            print(\"  \",i*j,end='')\n",
        "            print('|',end='')\n",
        "      print(\"\")\n",
        "    \n",
        "    break\n",
        "  except:\n",
        "    print(\"\\nThis is not a numbet.....! Try Again \")"
      ],
      "metadata": {
        "colab": {
          "base_uri": "https://localhost:8080/"
        },
        "id": "BJEIGk4N0CBx",
        "outputId": "15128036-dc6a-4587-8936-4c9bb860ec2f"
      },
      "execution_count": null,
      "outputs": [
        {
          "output_type": "stream",
          "name": "stdout",
          "text": [
            " Enter the number from start : 25\n",
            " Enter the number to end :21\n",
            "__________________Multiplication Tabel From  25  to  21 _________________\n",
            "  \n",
            "   25 |   24 |   23 |   22 |   21 |  \n",
            "   50 |   48 |   46 |   44 |   42 |  \n",
            "   75 |   72 |   69 |   66 |   63 |  \n",
            "   100|   96 |   92 |   88 |   84 |  \n",
            "   125|   120|   115|   110|   105|  \n",
            "   150|   144|   138|   132|   126|  \n",
            "   175|   168|   161|   154|   147|  \n",
            "   200|   192|   184|   176|   168|  \n",
            "   225|   216|   207|   198|   189|  \n",
            "   250|   240|   230|   220|   210|\n"
          ]
        }
      ]
    },
    {
      "cell_type": "code",
      "source": [],
      "metadata": {
        "id": "7RxrCzTe0IMS"
      },
      "execution_count": null,
      "outputs": []
    }
  ]
}