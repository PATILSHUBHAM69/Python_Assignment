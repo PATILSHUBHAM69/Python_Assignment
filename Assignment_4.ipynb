{
  "nbformat": 4,
  "nbformat_minor": 0,
  "metadata": {
    "colab": {
      "provenance": []
    },
    "kernelspec": {
      "name": "python3",
      "display_name": "Python 3"
    },
    "language_info": {
      "name": "python"
    }
  },
  "cells": [
    {
      "cell_type": "markdown",
      "source": [
        "*) Write a Python program to strip a set of characters from a string. "
      ],
      "metadata": {
        "id": "_yvirdBScX1n"
      }
    },
    {
      "cell_type": "code",
      "execution_count": null,
      "metadata": {
        "colab": {
          "base_uri": "https://localhost:8080/"
        },
        "id": "8vn0GxyfcSfn",
        "outputId": "fe6b480c-46f7-497d-cfda-3ef3b272ecf2"
      },
      "outputs": [
        {
          "output_type": "stream",
          "name": "stdout",
          "text": [
            " Enter the input string : indua is best country in the world\n",
            "Enter the character want to strip : aeiou\n",
            "Expected Output :  n d   s   b s t   c n t r y   n   t h   w r l d\n"
          ]
        }
      ],
      "source": [
        "def strip_char(string, char):\n",
        "  print(\"Expected Output : \",\"\".join(c for c in string if c not in char))\n",
        "\n",
        "string = input(\" Enter the input string : \")\n",
        "char = input('Enter the character want to strip : ')\n",
        "\n",
        "strip_char(string,char)"
      ]
    },
    {
      "cell_type": "markdown",
      "source": [
        "\n",
        "*) Write a Python program to count repeated characters in a string. \n",
        "Sample string: 'thequickbrownfoxjumpsoverthelazydog'\n",
        "Expected output :\n",
        "o 4\n",
        "e 3\n",
        "u 2\n",
        "h 2\n",
        "r 2\n",
        "t 2\n"
      ],
      "metadata": {
        "id": "yXbtw9ucfGr0"
      }
    },
    {
      "cell_type": "code",
      "source": [
        "def repeated_char(string):\n",
        "  for i in set(string):\n",
        "    count= 0\n",
        "    for j in string:\n",
        "      if i == j:\n",
        "        count+=1\n",
        "    print(i,':', count, end=' , ')\n",
        "\n",
        "string = input(\" Enter the string : \")\n",
        "repeated_char(string)"
      ],
      "metadata": {
        "colab": {
          "base_uri": "https://localhost:8080/"
        },
        "id": "4EdLq-gsdlV5",
        "outputId": "aef44d57-7ee3-4793-d5a3-34a95b22cc7a"
      },
      "execution_count": 1,
      "outputs": [
        {
          "output_type": "stream",
          "name": "stdout",
          "text": [
            " Enter the string : abhgsvbtgas\n",
            "g : 2 , b : 2 , a : 2 , v : 1 , s : 2 , h : 1 , t : 1 , "
          ]
        }
      ]
    },
    {
      "cell_type": "markdown",
      "source": [
        "3. Write a Python program to print the square and cube symbols in the area of a rectangle and the volume of a cylinder. \n",
        "Sample output:\n",
        "The area of the rectangle is 1256.66cm2\n",
        "The volume of the cylinder is 1254.725cm3\n"
      ],
      "metadata": {
        "id": "yokFYL69h2ar"
      }
    },
    {
      "cell_type": "code",
      "source": [
        "def sq_cube_symbol(sq,cyc):\n",
        "  print(\" Area of rectangle is : \", f'{sq}cm\\u00B2')\n",
        "  print(\" Volume of cylinder is : \", f'{cyc}cm\\u00B3')\n",
        "\n",
        "area_rect = input(\" Enter the area od square : \")\n",
        "volume_cyc = input(\" Enter the volume od cylinder : \")\n",
        "\n",
        "sq_cube_symbol(area_rect,volume_cyc)"
      ],
      "metadata": {
        "colab": {
          "base_uri": "https://localhost:8080/"
        },
        "id": "WFbN0OrxgKqb",
        "outputId": "4ce4a336-a492-4bf6-f031-a1fbd7f5c45f"
      },
      "execution_count": null,
      "outputs": [
        {
          "output_type": "stream",
          "name": "stdout",
          "text": [
            " Enter the area od square : 1256.66\n",
            " Enter the volume od cylinder : 1254.725\n",
            " Area of rectangle is :  1256.66cm²\n",
            " Volume of cylinder is :  1254.725cm³\n"
          ]
        }
      ]
    },
    {
      "cell_type": "code",
      "source": [],
      "metadata": {
        "id": "nSRCAoRZoZtE"
      },
      "execution_count": null,
      "outputs": []
    },
    {
      "cell_type": "markdown",
      "source": [
        "*) Write a Python program to print the index of a character in a string. \n",
        "Sample string: w3resource\n",
        "Expected output:\n",
        "Current character w position at 0\n",
        "Current character 3 position at 1\n",
        "Current character r position at 2\n",
        "- - - - - - - - - - - - - - - - - - - - - - - - -\n",
        "Current character c position at 8\n",
        "Current character e position at 9\n",
        " \n"
      ],
      "metadata": {
        "id": "Ah11Nx3qtSsC"
      }
    },
    {
      "cell_type": "code",
      "source": [
        "def print_index(string):\n",
        "  for i in range(len(string)):\n",
        "    print(\" Current character \",string[i],\" position at \",i)\n",
        "\n",
        "string = input(\" Enter the string : \")\n",
        "print_index(string)"
      ],
      "metadata": {
        "colab": {
          "base_uri": "https://localhost:8080/"
        },
        "id": "CXrtlUrbtWqk",
        "outputId": "db6b5831-b842-4ef2-ccb7-03fe6f050d84"
      },
      "execution_count": null,
      "outputs": [
        {
          "output_type": "stream",
          "name": "stdout",
          "text": [
            " Enter the string : w3school\n",
            " Current character  w  position at  0\n",
            " Current character  3  position at  1\n",
            " Current character  s  position at  2\n",
            " Current character  c  position at  3\n",
            " Current character  h  position at  4\n",
            " Current character  o  position at  5\n",
            " Current character  o  position at  6\n",
            " Current character  l  position at  7\n"
          ]
        }
      ]
    },
    {
      "cell_type": "markdown",
      "source": [
        "*) Write a Python program to check whether a string contains all letters of the alphabet. "
      ],
      "metadata": {
        "id": "NsCbj85SuZC8"
      }
    },
    {
      "cell_type": "code",
      "source": [
        "\n",
        "def check_all_alphabet(user_string):\n",
        "  import string\n",
        "  lower_alpha = []\n",
        "  for i in string.ascii_lowercase:\n",
        "    lower_alpha.append(i)\n",
        "  result_list = []\n",
        "  new_string = (user_string.lower())\n",
        "  for i in set(new_string):\n",
        "    for j in lower_alpha:\n",
        "      if j==i:\n",
        "        result_list.append(j)\n",
        "  \n",
        "  if len(result_list) == 26:\n",
        "    return (\"String Contains all letters of the alphabet\")\n",
        "\n",
        "  else:\n",
        "    return (\"String not contains all letters of alphabet\")\n",
        "\n",
        "\n",
        "user_input = input(\" Enter the string : \")\n",
        "\n",
        "check_all_alphabet(user_input)"
      ],
      "metadata": {
        "colab": {
          "base_uri": "https://localhost:8080/",
          "height": 53
        },
        "id": "4yTBlSSH-Yol",
        "outputId": "bd773c91-d44b-420c-8628-39104c6043f4"
      },
      "execution_count": null,
      "outputs": [
        {
          "name": "stdout",
          "output_type": "stream",
          "text": [
            " Enter the string : MNBVCXZ34567890qwertyuiop0\n"
          ]
        },
        {
          "output_type": "execute_result",
          "data": {
            "text/plain": [
              "'String not contains all letters of alphabet'"
            ],
            "application/vnd.google.colaboratory.intrinsic+json": {
              "type": "string"
            }
          },
          "metadata": {},
          "execution_count": 7
        }
      ]
    },
    {
      "cell_type": "markdown",
      "source": [
        "Write a Python program to convert a given string into a list of words. \n",
        "Sample Output:\n",
        "['The', 'quick', 'brown', 'fox', 'jumps', 'over', 'the', 'lazy', 'dog.']\n",
        "['The', 'quick', 'brown', 'fox', 'jumps', 'over', 'the', 'lazy', 'dog.']\n"
      ],
      "metadata": {
        "id": "YjFsWY3IDX0O"
      }
    },
    {
      "cell_type": "code",
      "source": [
        "def make_list(string):\n",
        "\n",
        "  result = string.split()\n",
        "  print(\"Expected Output : \", result)\n",
        "\n",
        "user_input = input(\"Enter the string : \")\n",
        "\n",
        "make_list(user_input)"
      ],
      "metadata": {
        "colab": {
          "base_uri": "https://localhost:8080/"
        },
        "id": "einUu81tDa1k",
        "outputId": "d39e4c67-4421-4ea8-9eb8-a9bc8ec7eaa7"
      },
      "execution_count": null,
      "outputs": [
        {
          "output_type": "stream",
          "name": "stdout",
          "text": [
            "Enter the string : The quick brown fox jumps over the lazyy dog\n",
            "Expected Output :  ['The', 'quick', 'brown', 'fox', 'jumps', 'over', 'the', 'lazyy', 'dog']\n"
          ]
        }
      ]
    },
    {
      "cell_type": "markdown",
      "source": [
        "*) Write a Python program to lowercase the first n characters in a string. "
      ],
      "metadata": {
        "id": "hu2lFI9-Ei7m"
      }
    },
    {
      "cell_type": "code",
      "source": [
        "while True:\n",
        "  try:\n",
        "    input_string = input(\"Enter the string : \")\n",
        "    input_no_char = int(input(\" Enter the no of first n character want to lowercase : \"))\n",
        "    def lowercase_char(string,no_of_char):\n",
        "      \n",
        "      new_string= string[:no_of_char]\n",
        "      print(\"Expected Output : \", new_string.lower() + string[no_of_char : ])\n",
        "    break\n",
        "  except:\n",
        "    print(\"\\nWrong Input.......! Try again\")\n",
        "\n",
        "\n",
        "\n",
        "\n",
        "lowercase_char(input_string,input_no_char)\n"
      ],
      "metadata": {
        "colab": {
          "base_uri": "https://localhost:8080/"
        },
        "id": "WlF9WxX-D9jw",
        "outputId": "12ac4278-8aec-423f-f128-a9af59c6f79a"
      },
      "execution_count": null,
      "outputs": [
        {
          "output_type": "stream",
          "name": "stdout",
          "text": [
            "Enter the string : Shuham\n",
            " Enter the no of first n character want to lowercase : we\n",
            "\n",
            "Wrong Input.......! Try again\n",
            "Enter the string : SHUBHAM\n",
            " Enter the no of first n character want to lowercase : 3\n",
            "Expected Output :  shuBHAM\n"
          ]
        }
      ]
    },
    {
      "cell_type": "code",
      "source": [],
      "metadata": {
        "id": "QIAvVIpIGCuj"
      },
      "execution_count": null,
      "outputs": []
    },
    {
      "cell_type": "markdown",
      "source": [
        "*) Write a Python program to count and display vowels in text"
      ],
      "metadata": {
        "id": "tE3gOHWhIC-n"
      }
    },
    {
      "cell_type": "code",
      "source": [
        "def check_vowles(string):\n",
        "  vowles = [ 'a','e','i','o','u']\n",
        "  for i in vowles:\n",
        "    count= 0\n",
        "    for j in string.lower():\n",
        "      if i == j:\n",
        "        count+=1\n",
        "    print(i,':', count, end=' , ')\n",
        "\n",
        "string = input(\" Enter the string : \")\n",
        "check_vowles(string)"
      ],
      "metadata": {
        "colab": {
          "base_uri": "https://localhost:8080/"
        },
        "id": "dJG_kxK9IWQ0",
        "outputId": "3fd1c98e-65b7-4472-ada9-37a43fc0b337"
      },
      "execution_count": null,
      "outputs": [
        {
          "output_type": "stream",
          "name": "stdout",
          "text": [
            " Enter the string : Shubham PAtil\n",
            "a : 2 , e : 0 , i : 1 , o : 0 , u : 1 , "
          ]
        }
      ]
    },
    {
      "cell_type": "code",
      "source": [],
      "metadata": {
        "id": "qrhQCYpXI15D"
      },
      "execution_count": null,
      "outputs": []
    },
    {
      "cell_type": "markdown",
      "source": [
        "Write a Python program to split a string on the last occurrence of the delimiter. "
      ],
      "metadata": {
        "id": "k0a3wTf3JKlf"
      }
    },
    {
      "cell_type": "code",
      "source": [
        "def split_delimiter(string,delimiter):\n",
        "  \n",
        "  result = print(string.rsplit(delimiter,1))\n",
        "\n",
        "input_string = input(\"Enter the string :\")\n",
        "delimiter = input( \"Enter the delimiter :\")\n",
        "\n",
        "split_delimiter(input_string, delimiter)"
      ],
      "metadata": {
        "colab": {
          "base_uri": "https://localhost:8080/"
        },
        "id": "wIqcNau7JLRo",
        "outputId": "9cf6f02a-43c7-4d19-a225-446ec18ace1b"
      },
      "execution_count": null,
      "outputs": [
        {
          "output_type": "stream",
          "name": "stdout",
          "text": [
            "Enter the string :shubham, patil work, in ,bangalore\n",
            "Enter the delimiter :,\n",
            "['shubham, patil work, in ', 'bangalore']\n"
          ]
        }
      ]
    },
    {
      "cell_type": "markdown",
      "source": [
        "Write a Python program to find the first non-repeating character in a given string. "
      ],
      "metadata": {
        "id": "_i647_deOnJZ"
      }
    },
    {
      "cell_type": "code",
      "source": [
        "def first_nonrepeated_char(string):\n",
        "  for i in string:\n",
        "      if string.count(i) == 1:\n",
        "        print(\"First non-repeating character is : \", i)\n",
        "        break\n",
        "\n",
        "input_string = input(\"Enter the string : \")\n",
        "first_nonrepeated_char(input_string)\n",
        "    "
      ],
      "metadata": {
        "colab": {
          "base_uri": "https://localhost:8080/"
        },
        "id": "BYqxUf4ndmhH",
        "outputId": "3710d4c4-480a-4f9e-ae3b-82b6fe0dd0e7"
      },
      "execution_count": null,
      "outputs": [
        {
          "output_type": "stream",
          "name": "stdout",
          "text": [
            "Enter the string : abcdabcstw\n",
            "First non-repeating character is :  d\n"
          ]
        }
      ]
    },
    {
      "cell_type": "markdown",
      "source": [
        "Write a Python program to print all permutations with a given repetition number of characters of a given string"
      ],
      "metadata": {
        "id": "FHsN58EJeQK0"
      }
    },
    {
      "cell_type": "code",
      "source": [
        "\n",
        "def permutation(string, repetition):\n",
        "\n",
        "  from itertools import product\n",
        "  result = []\n",
        "  for i in product(string, repeat=repetition):\n",
        "    result.append(i)\n",
        "  return result\n",
        "\n",
        "string = input(\"Enter the string : \")\n",
        "no_repetition= int(input(\" Enter the no. of repetition : \"))\n",
        "\n",
        "permutation(string,no_repetition)\n"
      ],
      "metadata": {
        "colab": {
          "base_uri": "https://localhost:8080/"
        },
        "id": "37ztFdAtfB7u",
        "outputId": "4ac38ab6-cb2e-4c31-d75d-f0a38771d587"
      },
      "execution_count": null,
      "outputs": [
        {
          "name": "stdout",
          "output_type": "stream",
          "text": [
            "Enter the string : abc\n",
            " Enter the no. of repetition : 3\n"
          ]
        },
        {
          "output_type": "execute_result",
          "data": {
            "text/plain": [
              "[('a', 'a', 'a'),\n",
              " ('a', 'a', 'b'),\n",
              " ('a', 'a', 'c'),\n",
              " ('a', 'b', 'a'),\n",
              " ('a', 'b', 'b'),\n",
              " ('a', 'b', 'c'),\n",
              " ('a', 'c', 'a'),\n",
              " ('a', 'c', 'b'),\n",
              " ('a', 'c', 'c'),\n",
              " ('b', 'a', 'a'),\n",
              " ('b', 'a', 'b'),\n",
              " ('b', 'a', 'c'),\n",
              " ('b', 'b', 'a'),\n",
              " ('b', 'b', 'b'),\n",
              " ('b', 'b', 'c'),\n",
              " ('b', 'c', 'a'),\n",
              " ('b', 'c', 'b'),\n",
              " ('b', 'c', 'c'),\n",
              " ('c', 'a', 'a'),\n",
              " ('c', 'a', 'b'),\n",
              " ('c', 'a', 'c'),\n",
              " ('c', 'b', 'a'),\n",
              " ('c', 'b', 'b'),\n",
              " ('c', 'b', 'c'),\n",
              " ('c', 'c', 'a'),\n",
              " ('c', 'c', 'b'),\n",
              " ('c', 'c', 'c')]"
            ]
          },
          "metadata": {},
          "execution_count": 6
        }
      ]
    },
    {
      "cell_type": "markdown",
      "source": [
        " Write a Python program to find the first repeated character in a given string. "
      ],
      "metadata": {
        "id": "GeMganrukVy6"
      }
    },
    {
      "cell_type": "code",
      "source": [
        "def first_repeated_char(string):\n",
        "  dic = {}\n",
        "  for i in string:\n",
        "    if i in dic:\n",
        "      print(\"First repeated character is : \",i)\n",
        "      break\n",
        "    else:\n",
        "      dic[i] = 0\n",
        "\n",
        "input_string = input(\"Enter the string : \")\n",
        "first_repeated_char(input_string)"
      ],
      "metadata": {
        "colab": {
          "base_uri": "https://localhost:8080/"
        },
        "id": "-7GxKcTzkc72",
        "outputId": "0afe3300-282e-4f39-e5bf-cd33328d3c42"
      },
      "execution_count": null,
      "outputs": [
        {
          "output_type": "stream",
          "name": "stdout",
          "text": [
            "Enter the string : success\n",
            "First repeated character is  c\n"
          ]
        }
      ]
    },
    {
      "cell_type": "markdown",
      "source": [
        "Write a Python program to find the first repeated character in a given string where the index of the first occurrence is smallest. "
      ],
      "metadata": {
        "id": "Wfdg-esTlOjn"
      }
    },
    {
      "cell_type": "code",
      "source": [
        "def first_repeated_char_index(string):\n",
        "  dic = {}\n",
        "  for i in string:\n",
        "    if i in dic:\n",
        "      print(\"First repeated character is \",i,\" it's index is \",string.index(i))\n",
        "      break\n",
        "    else:\n",
        "      dic[i] = 0\n",
        "\n",
        "input_string = input(\"Enter the string : \")\n",
        "first_repeated_char_index(input_string)"
      ],
      "metadata": {
        "colab": {
          "base_uri": "https://localhost:8080/"
        },
        "id": "y0KfVNwKlRgi",
        "outputId": "bdc2bdfa-c43d-4cf7-db07-dac886631c7d"
      },
      "execution_count": null,
      "outputs": [
        {
          "output_type": "stream",
          "name": "stdout",
          "text": [
            "Enter the string : success\n",
            "First repeated character is  c  it's index is  2\n"
          ]
        }
      ]
    },
    {
      "cell_type": "markdown",
      "source": [
        "Write a Python program to find the first repeated word in a given string. "
      ],
      "metadata": {
        "id": "h703PbgsqLJf"
      }
    },
    {
      "cell_type": "code",
      "source": [
        "def first_repeated_word(string):\n",
        "  dic = {}\n",
        "  for i in string.split():\n",
        "    if i in dic:\n",
        "      print(\"First repeated word is : \",i)\n",
        "      break\n",
        "    else:\n",
        "      dic[i] = 0\n",
        "\n",
        "input_string = input(\"Enter the string : \")\n",
        "first_repeated_word(input_string)"
      ],
      "metadata": {
        "colab": {
          "base_uri": "https://localhost:8080/"
        },
        "id": "IplcP6fEqQx_",
        "outputId": "f1f87421-3a79-4393-84e0-0a3a1440a017"
      },
      "execution_count": null,
      "outputs": [
        {
          "output_type": "stream",
          "name": "stdout",
          "text": [
            "Enter the string : my name is is name\n",
            "First repeated word is :  is\n"
          ]
        }
      ]
    },
    {
      "cell_type": "markdown",
      "source": [
        "Write a Python program to find the second most repeated word in a given string. "
      ],
      "metadata": {
        "id": "UwFivuWHqmzn"
      }
    },
    {
      "cell_type": "code",
      "source": [
        "while True:\n",
        "  try:\n",
        "    def second_most_repeted(string):\n",
        "      word_count=[]\n",
        "      for i in set(string.split()):\n",
        "        uq_count=string.count(i)\n",
        "        word_count.append(uq_count)\n",
        "      sorted_set_count=sorted(set(word_count),reverse=True)\n",
        "      second_most_count=sorted_set_count[1]\n",
        "      print(second_most_count)\n",
        "      result=[]\n",
        "      for j in string.split():\n",
        "        if string.count(j)==second_most_count:\n",
        "          result.append(j)\n",
        "      print(set(result))\n",
        "\n",
        "    user_input = input(\"Enter the input string : \")\n",
        "    second_most_repeted(user_input)\n",
        "    break\n",
        "\n",
        "  except:\n",
        "    print(\"\\nall input word are same... No second most repeted:\")"
      ],
      "metadata": {
        "colab": {
          "base_uri": "https://localhost:8080/"
        },
        "id": "5wN5-zEMqftV",
        "outputId": "8d859130-ce16-404b-9443-a41facaa09f8"
      },
      "execution_count": null,
      "outputs": [
        {
          "output_type": "stream",
          "name": "stdout",
          "text": [
            "Enter the input string : palkesh palkesh\n",
            "\n",
            "Wrong Input...! Single word input :\n",
            "\n",
            "Wrong Input...! Single word input :\n",
            "\n",
            "Wrong Input...! Single word input :\n",
            "\n",
            "Wrong Input...! Single word input :\n",
            "\n",
            "Wrong Input...! Single word input :\n"
          ]
        }
      ]
    },
    {
      "cell_type": "markdown",
      "source": [
        "Write a Python program to remove spaces from a given string. "
      ],
      "metadata": {
        "id": "mWUNCOx_HqwQ"
      }
    },
    {
      "cell_type": "code",
      "source": [
        "def remove_space(string):\n",
        "  result = string.replace(\" \",'')\n",
        "  return result\n",
        "\n",
        "user_input = input(\" Enter the string :\")\n",
        "remove_space(user_input)"
      ],
      "metadata": {
        "colab": {
          "base_uri": "https://localhost:8080/",
          "height": 53
        },
        "id": "okFTNltYCoFb",
        "outputId": "76c9c0d3-e364-4b49-f62b-7a79ad10e55a"
      },
      "execution_count": null,
      "outputs": [
        {
          "name": "stdout",
          "output_type": "stream",
          "text": [
            " Enter the string :my name is shubham    patil\n"
          ]
        },
        {
          "output_type": "execute_result",
          "data": {
            "text/plain": [
              "'mynameisshubhampatil'"
            ],
            "application/vnd.google.colaboratory.intrinsic+json": {
              "type": "string"
            }
          },
          "metadata": {},
          "execution_count": 3
        }
      ]
    },
    {
      "cell_type": "markdown",
      "source": [
        "Write a Python program to swap commas and dots in a string. \n",
        "Sample string: \"*)*),*)\n",
        "Expected Output: \"*)*).*)\n",
        " \n"
      ],
      "metadata": {
        "id": "xHyInjg4YVcQ"
      }
    },
    {
      "cell_type": "code",
      "source": [
        "def swap_comma_dot(string):\n",
        "  for i in string:\n",
        "    if i=='.':\n",
        "      print(',',end='')\n",
        "    elif i==',':\n",
        "      print('.',end='')\n",
        "    else:\n",
        "      print(i,end='')\n",
        "\n",
        "swap_comma_dot('my mail id is. www,google,com')"
      ],
      "metadata": {
        "colab": {
          "base_uri": "https://localhost:8080/"
        },
        "id": "BrakwQ4OYYA0",
        "outputId": "36ee876b-1e8d-40c2-9424-08e6618241c2"
      },
      "execution_count": null,
      "outputs": [
        {
          "output_type": "stream",
          "name": "stdout",
          "text": [
            "my mail id is, www.google.com"
          ]
        }
      ]
    },
    {
      "cell_type": "markdown",
      "source": [
        "Write a Python program to move spaces to the front of a given string. \n",
        " \n"
      ],
      "metadata": {
        "id": "xYUhRaT2PuAH"
      }
    },
    {
      "cell_type": "code",
      "source": [
        "def count_space(string):\n",
        "  space_count=string.count(\" \")\n",
        "  return (space_count * \" \")+ string.replace(\" \",\"\")\n",
        "\n",
        "\n",
        "string= input(\"Enter the string :\")\n",
        "count_space(string)"
      ],
      "metadata": {
        "colab": {
          "base_uri": "https://localhost:8080/",
          "height": 35
        },
        "id": "H_GiDbD3PuzT",
        "outputId": "4c3a9d94-1186-447a-e102-67897f95aae8"
      },
      "execution_count": null,
      "outputs": [
        {
          "output_type": "execute_result",
          "data": {
            "text/plain": [
              "'      mynameisshubhampatil'"
            ],
            "application/vnd.google.colaboratory.intrinsic+json": {
              "type": "string"
            }
          },
          "metadata": {},
          "execution_count": 7
        }
      ]
    },
    {
      "cell_type": "markdown",
      "source": [
        "Write a Python program to find the maximum number of characters in a given string. "
      ],
      "metadata": {
        "id": "lWEfCl0ORD-m"
      }
    },
    {
      "cell_type": "code",
      "source": [
        "def max_count(string):\n",
        "  char=[]\n",
        "  char_count=[]\n",
        "  for i in set(string.replace(\" \",\"\")):\n",
        "    char_count.append(string.count(i))\n",
        "    char.append(i)\n",
        "  max_count=max(char_count)\n",
        "  print(\" maximum number of characters : \")\n",
        "  for j in char_count:\n",
        "    if max_count==j:\n",
        "      result=(char[char_count.index(j)])\n",
        "      print(result,end=' ')\n",
        "      char.remove(result)\n",
        "      char_count.remove(j)\n",
        "  print(\"\\ncount of maximum number of characters is : \", max_count)\n",
        "\n",
        "\n",
        "user_input = input(\"Enter the string :\")\n",
        "max_count(user_input)"
      ],
      "metadata": {
        "colab": {
          "base_uri": "https://localhost:8080/"
        },
        "id": "n6NB4VHZQKIi",
        "outputId": "7f22bbb1-144b-4775-b3eb-9a3dcc015901"
      },
      "execution_count": null,
      "outputs": [
        {
          "output_type": "stream",
          "name": "stdout",
          "text": [
            "Enter the string :abc abd chg sgds sdhs abc ss de\n",
            " maximum number of characters : \n",
            "s \n",
            "count of maximum number of characters is :  6\n"
          ]
        }
      ]
    },
    {
      "cell_type": "markdown",
      "source": [
        " Write a Python program to capitalize the first and last letters of each word in a given string."
      ],
      "metadata": {
        "id": "LpiFWm3yW15V"
      }
    },
    {
      "cell_type": "code",
      "source": [
        "def capitalize(string):\n",
        "  for i in string.split():\n",
        "    print(i[0].upper()+i[1:-1]+i[-1].upper(),end=' ')\n",
        "\n",
        "user_input = input(\"Enter the string input : \")\n",
        "capitalize(user_input)"
      ],
      "metadata": {
        "colab": {
          "base_uri": "https://localhost:8080/"
        },
        "id": "dum9FgF-W7e0",
        "outputId": "c064fe90-b561-4870-a5ba-84e49b5e3773"
      },
      "execution_count": null,
      "outputs": [
        {
          "output_type": "stream",
          "name": "stdout",
          "text": [
            "Enter the string input : my name is shubham\n",
            "MY NamE IS ShubhaM "
          ]
        }
      ]
    },
    {
      "cell_type": "code",
      "source": [
        "def hash(key):\n",
        "  h=0\n",
        "  for chr in key:\n",
        "  \n",
        "    h=h+ord(chr)\n",
        "  \n",
        "  return h%10\n",
        "\n"
      ],
      "metadata": {
        "id": "aPzU3Jk5XZYx"
      },
      "execution_count": null,
      "outputs": []
    },
    {
      "cell_type": "code",
      "source": [
        "hash('march 17')"
      ],
      "metadata": {
        "colab": {
          "base_uri": "https://localhost:8080/"
        },
        "id": "Zq2efurlQm-x",
        "outputId": "90879d99-d345-4971-929a-fcd791f6c3bb"
      },
      "execution_count": null,
      "outputs": [
        {
          "output_type": "execute_result",
          "data": {
            "text/plain": [
              "9"
            ]
          },
          "metadata": {},
          "execution_count": 12
        }
      ]
    },
    {
      "cell_type": "code",
      "source": [
        "def linear_search(list1,find1):\n",
        "  for index, element in enumerate(list1):\n",
        "    if element == find1:\n",
        "      return index\n",
        "  return -1\n",
        "\n",
        "list1=[1,2,3,4,5,6,7]\n",
        "find= 6\n",
        "\n",
        "linear_search(list1,find)\n"
      ],
      "metadata": {
        "colab": {
          "base_uri": "https://localhost:8080/"
        },
        "id": "HjQI9HKeQq-p",
        "outputId": "1e801b25-4c71-4fc0-cb56-28f6ab6da602"
      },
      "execution_count": null,
      "outputs": [
        {
          "output_type": "execute_result",
          "data": {
            "text/plain": [
              "5"
            ]
          },
          "metadata": {},
          "execution_count": 1
        }
      ]
    },
    {
      "cell_type": "code",
      "source": [
        "def binary_search(list1,find1):\n",
        "\n",
        "  left_index = 0\n",
        "  right_index= len(list1)-1\n",
        "  mid_index = 0\n",
        "\n",
        "  while left_index <= right_index:\n",
        "    mid_index = (left_index + right_index)//2\n",
        "    mid_num = list1[mid_index]\n",
        "\n",
        "    if mid_num == find1:\n",
        "      return mid_index\n",
        "\n",
        "    if mid_num < find1:\n",
        "      left_index=mid_index + 1\n",
        "\n",
        "    else:\n",
        "      right_index = mid_index - 1\n",
        "  return -1\n",
        "binary_search(list1,find)\n"
      ],
      "metadata": {
        "colab": {
          "base_uri": "https://localhost:8080/"
        },
        "id": "pA7tcdEfTud5",
        "outputId": "214b75e9-3338-406e-929d-e4466fba95c7"
      },
      "execution_count": null,
      "outputs": [
        {
          "output_type": "execute_result",
          "data": {
            "text/plain": [
              "5"
            ]
          },
          "metadata": {},
          "execution_count": 2
        }
      ]
    },
    {
      "cell_type": "code",
      "source": [
        "def binary_search_recursive(list1,find1,left_index,right_index):\n",
        "\n",
        "  if right_index < left_index:\n",
        "    return -1\n",
        "\n",
        "  mid_index = (left_index + right_index)//2\n",
        "  mid_num = list1[mid_index]\n",
        "\n",
        "  if mid_num == find1:\n",
        "    return mid_index\n",
        "\n",
        "  if mid_num < find1:\n",
        "    left_index = mid_index + 1\n",
        "\n",
        "  else:\n",
        "    right_index = mid_index - 1\n",
        "\n",
        "  return binary_search_recursive(list1,find1,left_index,right_index)\n",
        "\n",
        "binary_search_recursive(list1,6,0,len(list1)) "
      ],
      "metadata": {
        "colab": {
          "base_uri": "https://localhost:8080/"
        },
        "id": "JlKNsbwLYIV-",
        "outputId": "a22f3009-719e-49d3-e319-8470466e9285"
      },
      "execution_count": null,
      "outputs": [
        {
          "output_type": "execute_result",
          "data": {
            "text/plain": [
              "5"
            ]
          },
          "metadata": {},
          "execution_count": 5
        }
      ]
    },
    {
      "cell_type": "code",
      "source": [
        "def bubble_sort(element):\n",
        "\n",
        "  size = len(element)\n",
        "\n",
        "  for i in range(size-1):\n",
        "    swapped = False\n",
        "    for j in range(size-1-i):\n",
        "      if element[j] > element[j+1]:\n",
        "        temp = element[j]\n",
        "        element[j] = element[j+1]\n",
        "        element[j+1] = temp\n",
        "        swapped = True\n",
        "\n",
        "    if not swapped:\n",
        "      break\n",
        "\n",
        "element = [23,45,32,578,54,1,89,2]\n",
        "\n",
        "bubble_sort(element)\n",
        "print(element)"
      ],
      "metadata": {
        "colab": {
          "base_uri": "https://localhost:8080/"
        },
        "id": "0zhl6uOabQR_",
        "outputId": "921f52ca-f27b-4e59-c856-dbace28da4ef"
      },
      "execution_count": null,
      "outputs": [
        {
          "output_type": "stream",
          "name": "stdout",
          "text": [
            "[1, 2, 23, 32, 45, 54, 89, 578]\n"
          ]
        }
      ]
    },
    {
      "cell_type": "code",
      "source": [
        "def fab(ele):\n",
        "  if ele == 0:\n",
        "    return 0\n",
        "\n",
        "  elif ele ==1 or ele==2:\n",
        "    return 1\n",
        "  else:\n",
        "    return (fab(ele-1)+fab(ele-2))\n",
        "\n",
        "ele = 10\n",
        "for i in range(ele):\n",
        "  print(fab(i))\n"
      ],
      "metadata": {
        "colab": {
          "base_uri": "https://localhost:8080/"
        },
        "id": "dYgXBG5ulGwu",
        "outputId": "b45bc43b-d32e-433e-c36b-85891245908d"
      },
      "execution_count": null,
      "outputs": [
        {
          "output_type": "stream",
          "name": "stdout",
          "text": [
            "0\n",
            "1\n",
            "1\n",
            "2\n",
            "3\n",
            "5\n",
            "8\n",
            "13\n",
            "21\n",
            "34\n"
          ]
        }
      ]
    },
    {
      "cell_type": "code",
      "source": [
        "def bubble_sort2(element):\n",
        "\n",
        "  size = len(element)\n",
        "\n",
        "  for i in range(size-1):\n",
        "    swapped = False\n",
        "    for j in range(size-1-i):\n",
        "      if element[j] > element[j+1]:\n",
        "        temp = element[j]\n",
        "        element[j]=element[j+1]\n",
        "        element[j+1]=temp\n",
        "        swapped=True\n",
        "\n",
        "    if not swapped:\n",
        "      break\n",
        "element = [1,23,11,4,32,56,34,567,3,74,6,445,23]\n",
        "bubble_sort(element)\n",
        "print(element)"
      ],
      "metadata": {
        "colab": {
          "base_uri": "https://localhost:8080/"
        },
        "id": "mt_jEeG3lqD2",
        "outputId": "61c79374-2e46-420b-aaee-0f4842f82f3b"
      },
      "execution_count": null,
      "outputs": [
        {
          "output_type": "stream",
          "name": "stdout",
          "text": [
            "[1, 3, 4, 6, 11, 23, 23, 32, 34, 56, 74, 445, 567]\n"
          ]
        }
      ]
    },
    {
      "cell_type": "code",
      "source": [],
      "metadata": {
        "id": "OM5dgLvRmgaa"
      },
      "execution_count": null,
      "outputs": []
    },
    {
      "cell_type": "markdown",
      "source": [
        "Quick sort"
      ],
      "metadata": {
        "id": "L8865Zqlte87"
      }
    },
    {
      "cell_type": "code",
      "source": [
        "# implementation of quick sort in python using hoare partition scheme\n",
        "\n",
        "def swap(a, b, arr):\n",
        "    if a!=b:\n",
        "        tmp = arr[a]\n",
        "        arr[a] = arr[b]\n",
        "        arr[b] = tmp\n",
        "\n",
        "def quick_sort(elements, start, end):\n",
        "    if start < end:\n",
        "        pi = partition(elements, start, end)\n",
        "        quick_sort(elements, start, pi-1)\n",
        "        quick_sort(elements, pi+1, end)\n",
        "\n",
        "def partition(elements, start, end):\n",
        "    pivot_index = start\n",
        "    pivot = elements[pivot_index]\n",
        "\n",
        "    while start < end:\n",
        "        while start < len(elements) and elements[start] <= pivot:\n",
        "            start+=1\n",
        "\n",
        "        while elements[end] > pivot:\n",
        "            end-=1\n",
        "\n",
        "        if start < end:\n",
        "            swap(start, end, elements)\n",
        "\n",
        "    swap(pivot_index, end, elements)\n",
        "\n",
        "    return end\n",
        "\n",
        "\n",
        "if __name__ == '__main__':\n",
        "    elements = [11,9,29,7,2,15,28]\n",
        "    # elements = [\"mona\", \"dhaval\", \"aamir\", \"tina\", \"chang\"]\n",
        "    quick_sort(elements, 0, len(elements)-1)\n",
        "    print(elements)\n",
        "\n",
        "    tests = [\n",
        "        [11,9,29,7,2,15,28],\n",
        "        [3, 7, 9, 11],\n",
        "        [25, 22, 21, 10],\n",
        "        [29, 15, 28],\n",
        "        [],\n",
        "        [6]\n",
        "    ]\n",
        "\n",
        "    for elements in tests:\n",
        "        quick_sort(elements, 0, len(elements)-1)\n",
        "        print(f'sorted array: {elements}')\n",
        "\n"
      ],
      "metadata": {
        "id": "PT9TmA2jtgoX",
        "outputId": "0157b0d6-3886-4f91-81eb-55c4ef9e78f4",
        "colab": {
          "base_uri": "https://localhost:8080/"
        }
      },
      "execution_count": null,
      "outputs": [
        {
          "output_type": "stream",
          "name": "stdout",
          "text": [
            "[2, 7, 9, 11, 15, 28, 29]\n",
            "sorted array: [2, 7, 9, 11, 15, 28, 29]\n",
            "sorted array: [3, 7, 9, 11]\n",
            "sorted array: [10, 21, 22, 25]\n",
            "sorted array: [15, 28, 29]\n",
            "sorted array: []\n",
            "sorted array: [6]\n"
          ]
        }
      ]
    }
  ]
}